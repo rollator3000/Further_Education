{
 "cells": [
  {
   "cell_type": "markdown",
   "metadata": {},
   "source": [
    "<a href=\"https://akademie.datamics.com/kursliste/\">![title](bg_datamics_top.png)</a>\n",
    "\n",
    "<center><em>© Datamics</em></center><br><center><em>Besuche uns für mehr Informationen auf <a href='https://akademie.datamics.com/kursliste/'>www.akademie.datamics.com</a></em></center>\n",
    "\n",
    "\n",
    "# Aktienstimmung Analyse\n",
    "\n",
    "Sieh Dir das Video an, um alle Details zu erfahren."
   ]
  },
  {
   "cell_type": "markdown",
   "metadata": {},
   "source": [
    "## Finaler Code\n",
    "Hier ist der finale Code:"
   ]
  },
  {
   "cell_type": "code",
   "execution_count": null,
   "metadata": {
    "collapsed": true
   },
   "outputs": [],
   "source": [
    "# Dieser Abschnitt kann nur im Backtester importiert werden\n",
    "from quantopian.algorithm import attach_pipeline, pipeline_output\n",
    "\n",
    "# Allgemeine Pipeline-Importe\n",
    "from quantopian.pipeline import Pipeline\n",
    "from quantopian.pipeline.factors import AverageDollarVolume\n",
    "\n",
    "\n",
    "# Verwende die kostenlose Probe in deinem Pipelinealgorithmus\n",
    "from quantopian.pipeline.data.accern import alphaone_free\n",
    "\n",
    "\n",
    "def initialize(context):\n",
    "    # Stellen wir unsere rebalance-Funktion so ein, dass sie am Anfang jeder Woche ausgeführt wird\n",
    "    schedule_function(my_rebalance, date_rules.every_day())\n",
    "\n",
    "    \n",
    "    attach_pipeline(make_pipeline(), \"pipeline\")\n",
    "\n",
    "def make_pipeline():\n",
    "\n",
    "    \n",
    "    # Aussondern von Kleinaktien (penny stocks) und Wertpapieren mit geringer Liquidität\n",
    "    dollar_volume = AverageDollarVolume(window_length=20)\n",
    "    is_liquid = dollar_volume.rank(ascending=False) < 1000\n",
    " \n",
    "    # Füge Pipelinefaktoren hinzu\n",
    "    impact = alphaone_free.impact_score.latest\n",
    "    sentiment = alphaone_free.article_sentiment.latest\n",
    "\n",
    "    return Pipeline(columns={\n",
    "            'impact': impact,\n",
    "            'sentiment':sentiment,\n",
    "            },\n",
    "            screen = is_liquid)\n",
    "            \n",
    "\n",
    "\n",
    "    \n",
    "def before_trading_start(context, data):\n",
    "    port = pipeline_output('pipeline')\n",
    "    \n",
    "    # Erfasse Aktien mit 100 Einfluss und >0.5 Stimmung und verkaufe long.\n",
    "    context.longs = port[(port['impact']==100) & (port['sentiment']>0.75)].index.tolist()\n",
    "    \n",
    "    # Erfasse Aktien mit 100 Einfluss und <-0.5 Stimmung und verkaufe long.\n",
    "    context.shorts = port[(port['impact']==100) & (port['sentiment']< -0.75)].index.tolist()\n",
    "\n",
    "    context.long_weight, context.short_weight = my_compute_weights(context)\n",
    "\n",
    "def my_compute_weights(context):\n",
    "\n",
    "    # Berechne gerade Zielgewichtungen für unsere long- und short-Positionen\n",
    "    long_weight = 0.5 / len(context.longs)\n",
    "    short_weight = -0.5 / len(context.shorts)\n",
    "\n",
    "    return long_weight, short_weight\n",
    "\n",
    "def my_rebalance(context, data):\n",
    "\n",
    "    for security in context.portfolio.positions:\n",
    "        if security not in context.longs and security not in context.shorts and data.can_trade(security):\n",
    "            order_target_percent(security, 0)\n",
    "\n",
    "    for security in context.longs:\n",
    "        if data.can_trade(security):\n",
    "            order_target_percent(security, context.long_weight)\n",
    "\n",
    "    for security in context.shorts:\n",
    "        if data.can_trade(security):\n",
    "            order_target_percent(security, context.short_weight)\n"
   ]
  }
 ],
 "metadata": {
  "kernelspec": {
   "display_name": "Python 3 (ipykernel)",
   "language": "python",
   "name": "python3"
  },
  "language_info": {
   "codemirror_mode": {
    "name": "ipython",
    "version": 3
   },
   "file_extension": ".py",
   "mimetype": "text/x-python",
   "name": "python",
   "nbconvert_exporter": "python",
   "pygments_lexer": "ipython3",
   "version": "3.8.5"
  }
 },
 "nbformat": 4,
 "nbformat_minor": 2
}
