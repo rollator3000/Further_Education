{
 "cells": [
  {
   "cell_type": "markdown",
   "metadata": {},
   "source": [
    "<a href=\"https://akademie.datamics.com/kursliste/\">![title](bg_datamics_top.png)</a>\n",
    "\n",
    "<center><em>© Datamics</em></center><br><center><em>Besuche uns für mehr Informationen auf <a href='https://akademie.datamics.com/kursliste/'>www.akademie.datamics.com</a></em></center>\n",
    "\n",
    "# Quandl\n",
    "Weitere Informationen:\n",
    "https://www.quandl.com/tools/python"
   ]
  },
  {
   "cell_type": "code",
   "execution_count": null,
   "metadata": {},
   "outputs": [],
   "source": [
    "import numpy as np\n",
    "import pandas as pd\n",
    "import matplotlib.pyplot as plt\n",
    "%matplotlib inline"
   ]
  },
  {
   "cell_type": "code",
   "execution_count": null,
   "metadata": {},
   "outputs": [],
   "source": [
    "import quandl"
   ]
  },
  {
   "cell_type": "markdown",
   "metadata": {},
   "source": [
    "### Ein einfacher Datenabruf\n",
    "\n",
    "Dieser Abruf liefert den WTI Rohölpreis vom US Department of Energy:"
   ]
  },
  {
   "cell_type": "code",
   "execution_count": null,
   "metadata": {},
   "outputs": [],
   "source": [
    "mydata = quandl.get(\"EIA/PET_RWTC_D\")"
   ]
  },
  {
   "cell_type": "code",
   "execution_count": null,
   "metadata": {},
   "outputs": [],
   "source": [
    "mydata.head()"
   ]
  },
  {
   "cell_type": "code",
   "execution_count": null,
   "metadata": {},
   "outputs": [],
   "source": [
    "mydata.plot(figsize=(12,6))"
   ]
  },
  {
   "cell_type": "markdown",
   "metadata": {},
   "source": [
    "Beachte, dass Du den \"Quandl code\" von jedem Datensatz, den Du runterlädst, kennen musst. Im obigen Beispiel ist er \"EIA/PET_RWTC_D\"."
   ]
  },
  {
   "cell_type": "markdown",
   "metadata": {},
   "source": [
    "### Format ändern\n",
    "\n",
    "Du kannst die selben Daten als NumPy Array ausgeben lassen:"
   ]
  },
  {
   "cell_type": "code",
   "execution_count": null,
   "metadata": {},
   "outputs": [],
   "source": [
    "mydata = quandl.get(\"EIA/PET_RWTC_D\", returns=\"numpy\")"
   ]
  },
  {
   "cell_type": "markdown",
   "metadata": {},
   "source": [
    "### Daten Spezifizieren\n",
    "\n",
    "Um Start- und Enddatum zu definieren:"
   ]
  },
  {
   "cell_type": "code",
   "execution_count": null,
   "metadata": {},
   "outputs": [],
   "source": [
    "mydata = quandl.get(\"FRED/GDP\", start_date=\"2001-12-31\", end_date=\"2005-12-31\")"
   ]
  },
  {
   "cell_type": "code",
   "execution_count": null,
   "metadata": {},
   "outputs": [],
   "source": [
    "mydata.head()"
   ]
  },
  {
   "cell_type": "code",
   "execution_count": null,
   "metadata": {},
   "outputs": [],
   "source": [
    "mydata = quandl.get([\"NSE/OIL.1\", \"WIKI/AAPL.4\"])"
   ]
  },
  {
   "cell_type": "code",
   "execution_count": null,
   "metadata": {},
   "outputs": [],
   "source": [
    "mydata.head()"
   ]
  },
  {
   "cell_type": "markdown",
   "metadata": {},
   "source": [
    "### Grenzen der Anwendung\n",
    "Das Quandl Python Modul ist kostenlos. Aber falls Du mehr als 50 Aufrufe pro Tag tätigen möchtest, musst Du einen kostenlosen Quandl Account erstellen und Deinen API Schlüssel (key) festlegen:"
   ]
  },
  {
   "cell_type": "code",
   "execution_count": null,
   "metadata": {},
   "outputs": [],
   "source": [
    "# BEISPIEL\n",
    "quandl.ApiConfig.api_key = \"YOUR_KEY_HERE\"\n",
    "mydata = quandl.get(\"FRED/GDP\")"
   ]
  },
  {
   "cell_type": "markdown",
   "metadata": {},
   "source": [
    "## Datenbank Codes\n",
    "\n",
    "Jede Datenbank auf Quandl hat eine kurze Datenbank-ID (3-6 Zeichen), z.B.:\n",
    "\n",
    "* CFTC Commitment of Traders Data: CFTC\n",
    "* Core US Stock Fundamentals: SF1\n",
    "* Federal Reserve Economic Data: FRED\n",
    "\n",
    "Jede Datenbank enthält viele Datensätze. Datensätze haben ihre eigenen IDs, die an die ID ihrer zugehörigen Datenbank wie folgt angehängt werden:\n",
    "\n",
    "* Commitment of traders for wheat:  CFTC/W_F_ALL\n",
    "* Market capitalization for Apple:  SF1/AAPL_MARKETCAP\n",
    "* US civilian unemployment rate:  FRED/UNRATE\n",
    "\n",
    "Du kannst alle Datensatzcodes einer Datenbank mit einem einzigen API Aufruf runterladen, indem du /codes an deine Datenbank Anfrage anhängst. Der Aufruf liefert eine ZIP-Datei, die ein CSV enthält.\n",
    "\n",
    "### Datenbanken\n",
    "\n",
    "\n",
    "Jeder Quandl Code hat zwei Teile: den Datenbankcode (\"WIKI\"), der genau sagt, wo die Daten herkommen, und den Datensatzcode (\"FB\"), der die Zeitreihe markiert, die Du haben möchtest.\n",
    "\n",
    "Du kannst Quandl Codes auf ihrer Website finden, indem Du ihren Datenbrowser verwendest.\n",
    "\n",
    "https://www.quandl.com/search"
   ]
  },
  {
   "cell_type": "code",
   "execution_count": null,
   "metadata": {},
   "outputs": [],
   "source": [
    "# FÜR AKTIEN"
   ]
  },
  {
   "cell_type": "code",
   "execution_count": null,
   "metadata": {},
   "outputs": [],
   "source": [
    "mydata = quandl.get('WIKI/FB',start_date='2015-01-01',end_date='2017-01-01')"
   ]
  },
  {
   "cell_type": "code",
   "execution_count": null,
   "metadata": {},
   "outputs": [],
   "source": [
    "mydata.head()"
   ]
  },
  {
   "cell_type": "code",
   "execution_count": null,
   "metadata": {},
   "outputs": [],
   "source": [
    "mydata = quandl.get('WIKI/FB.1',start_date='2015-01-01',end_date='2017-01-01')"
   ]
  },
  {
   "cell_type": "code",
   "execution_count": null,
   "metadata": {},
   "outputs": [],
   "source": [
    "mydata.head()"
   ]
  },
  {
   "cell_type": "code",
   "execution_count": null,
   "metadata": {},
   "outputs": [],
   "source": [
    "mydata = quandl.get('WIKI/FB.7',start_date='2015-01-01',end_date='2017-01-01')"
   ]
  },
  {
   "cell_type": "code",
   "execution_count": null,
   "metadata": {},
   "outputs": [],
   "source": [
    "mydata.head()"
   ]
  },
  {
   "cell_type": "markdown",
   "metadata": {},
   "source": [
    "### Wohnungswesen Preisbeispiel \n",
    "\n",
    "**Zillow Home Value Index (Metro): Zillow Rental Index - All Homes - San Francisco, CA**\n",
    "\n",
    "Der Zillow Home Value Index ist Zillows Schätzung des mittlerwen Marktwerts des Zillow Mietindex (rental index) - alle Wohnungen und Häuser in der Nähe der Metro von San Francisco, Kalifornien. Diese Daten werden von Zillow Real Estate Research (www.zillow.com/research) berechnet, indem ihre Datenbank von 110 Millionen Wohnungen und Häusern benutzt wird."
   ]
  },
  {
   "cell_type": "code",
   "execution_count": null,
   "metadata": {},
   "outputs": [],
   "source": [
    "houses = quandl.get('ZILLOW/M11_ZRIAH')"
   ]
  },
  {
   "cell_type": "code",
   "execution_count": null,
   "metadata": {},
   "outputs": [],
   "source": [
    "houses.head()"
   ]
  },
  {
   "cell_type": "code",
   "execution_count": null,
   "metadata": {},
   "outputs": [],
   "source": [
    "houses.plot()"
   ]
  }
 ],
 "metadata": {
  "kernelspec": {
   "display_name": "Python 3 (ipykernel)",
   "language": "python",
   "name": "python3"
  },
  "language_info": {
   "codemirror_mode": {
    "name": "ipython",
    "version": 3
   },
   "file_extension": ".py",
   "mimetype": "text/x-python",
   "name": "python",
   "nbconvert_exporter": "python",
   "pygments_lexer": "ipython3",
   "version": "3.8.5"
  }
 },
 "nbformat": 4,
 "nbformat_minor": 2
}
