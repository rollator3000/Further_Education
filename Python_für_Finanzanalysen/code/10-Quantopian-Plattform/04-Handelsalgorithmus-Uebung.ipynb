{
 "cells": [
  {
   "cell_type": "markdown",
   "metadata": {},
   "source": [
    "<a href=\"https://akademie.datamics.com/kursliste/\">![title](bg_datamics_top.png)</a>\n",
    "\n",
    "<center><em>© Datamics</em></center><br><center><em>Besuche uns für mehr Informationen auf <a href='https://akademie.datamics.com/kursliste/'>www.akademie.datamics.com</a></em></center>\n",
    "\n",
    "# Übung Handelsalgorithmus\n",
    "** Dies ist eine extrem offene Aufgabe und es gibt sehr viele Wege, sie zu lösen. Du kannst auch einfach zu den Lösungen springen und diese Übung als Code along Beispiel ansehen. Wenn du die Übung versuchst, erwarte nicht, dass die Beispiellösung genau mit deiner Lösung übereinstimmt. Vielleicht hast Du sie viel besser gelöst (oder viel schlechter)!**\n",
    "\n",
    "## Deine Aufgabe\n",
    "\n",
    "Dein Manager möchte herausfinden, ob [Bollinger Bänder](https://de.wikipedia.org/wiki/Bollinger-B%C3%A4nder) an sich immer noch eine bedeutende technische Analysestrategie sind. Für diese Übung wirst Du *Johnson and Johnson* sid(4151) testen. Konkret: Dein Manager hat beschlossen, dass er 100% des Portfolios long setzen will, wenn der Aktienpreis um mehr als das Doppelte der 20-Tages rollenden Standardabweichung unter dem 20-Tages gleitenden Mittelwert liegt, und 100% short, wenn der Preis um mehr als das Doppelte der rollenden Standardabweichung über dem 20-Tages gleitenden Mittelwert liegt. Es soll nur einmal am Tag überprüft werden, ob dieses Signalereignis erreicht wurde. Dies ist wahrscheinlich eine sehr unvernünftige Strategie, aber der hauptsächliche Sinn dieser Übung ist es, Deine Fähigkeit zum Schreiben von Rückvergleichsalgorithmen mit Quantopian zu üben.\n",
    "\n",
    "## Zeitrahmen\n",
    "\n",
    "Du solltest den folgenden Zeitrahmen für deine Übung verwenden (damit du wenigstens einen vernünftigen Vergleich zu den Lösungen ziehen kannst, aber du kannst auch etwas damit experimentieren!)\n",
    "\n",
    "#### BACKTEST START:  20.07.2014\n",
    "#### BACKTEST ENDE: 20.07.2017"
   ]
  }
 ],
 "metadata": {
  "anaconda-cloud": {},
  "kernelspec": {
   "display_name": "Python 3 (ipykernel)",
   "language": "python",
   "name": "python3"
  },
  "language_info": {
   "codemirror_mode": {
    "name": "ipython",
    "version": 3
   },
   "file_extension": ".py",
   "mimetype": "text/x-python",
   "name": "python",
   "nbconvert_exporter": "python",
   "pygments_lexer": "ipython3",
   "version": "3.8.5"
  }
 },
 "nbformat": 4,
 "nbformat_minor": 1
}
