{
 "cells": [
  {
   "cell_type": "markdown",
   "metadata": {},
   "source": [
    "<a href=\"https://akademie.datamics.com/kursliste/\">![title](bg_datamics_top.png)</a>\n",
    "\n",
    "<center><em>© Datamics</em></center><br><center><em>Besuche uns für mehr Informationen auf <a href='https://akademie.datamics.com/kursliste/'>www.akademie.datamics.com</a></em></center>\n",
    "\n",
    "# 01-Quantopian Forschungsgrundlagen \n",
    "\n",
    "**Bitte beachte, dass dieses Notebook nur auf Quantopian funktioniert! Erstelle einen Account und lade diese Notebookdatei hoch. Diese Kommandos und Funktionen werden außerhalb der Quantopian Handelsplattform nicht funktionieren!**\n",
    "\n",
    "Beachte auch, dass eine Menge des Markdown-Textes in diesem Notebook direkt von der Quantopian Dokumentation und den Tutorials kommt. Schau Dir auch diese an, sie sind sehr gut!\n",
    "\n",
    "## Forschung\n",
    "\n",
    "Das Notebookformat erlaubt uns eine einfache Zusammenstellung von Informationen über verschiedene Wertpapiere. Denk daran, dass dies etwas anderes ist als die grundlegende Programmierplattform von Quantopian, die sich auf die eigentliche Implementierung und Rückvergleiche von Handelsstrategien konzentriert."
   ]
  },
  {
   "cell_type": "code",
   "execution_count": 1,
   "metadata": {},
   "outputs": [],
   "source": [
    "import numpy as np\n",
    "import pandas as pd\n",
    "import matplotlib.pyplot as plt\n",
    "# DU MUSST KEINE MAGIC INLINE KOMMANDOS BEI QUANTOPIAN BENUTZEN!"
   ]
  },
  {
   "cell_type": "markdown",
   "metadata": {
    "collapsed": true
   },
   "source": [
    "## Informationen erfassen\n",
    "\n",
    "Sehen wir uns ein paar der wichtigsten Funktionen an:\n",
    "\n",
    "* get_pricing()\n",
    "* symbols()\n",
    "* local_csv()\n",
    "* get_backtest()\n",
    "* get_fundamentals()"
   ]
  },
  {
   "cell_type": "markdown",
   "metadata": {},
   "source": [
    "## get_pricing()\n",
    "\n",
    "Die `get_pricing` Funktion gewährt Zugang zu Preisdaten des US Equity aus 12 Jahren: dieselben Daten, die bei den Rückvergleichen bei Quantopian verwendet werden. \n",
    "\n",
    "`get_pricing` gibt ein <b>Objekt von Pandas</b> zurück. Dies kann ein Panel, ein Datenframe oder Reihen sein, je nachdem, was die Inputvariablen sind."
   ]
  },
  {
   "cell_type": "code",
   "execution_count": null,
   "metadata": {},
   "outputs": [],
   "source": [
    "mcdon = get_pricing('MCD',\n",
    "                    start_date='2017-01-01', \n",
    "                    end_date = '2017-02-01', \n",
    "                    frequency='minute')"
   ]
  },
  {
   "cell_type": "code",
   "execution_count": null,
   "metadata": {},
   "outputs": [],
   "source": [
    "mcdon.head()"
   ]
  },
  {
   "cell_type": "code",
   "execution_count": null,
   "metadata": {},
   "outputs": [],
   "source": [
    "mcdon.info()"
   ]
  },
  {
   "cell_type": "code",
   "execution_count": null,
   "metadata": {},
   "outputs": [],
   "source": [
    "# Kann zwar nur etwa 12 Jahre zurück gehen,\n",
    "# was aber alles ist, was Du für Algorithmisches Handeln benötigst; \n",
    "# weiter zurück zu gehen bringt wahrscheinlich mehr Rauschen als Signal.\n",
    "\n",
    "mcdon = get_pricing('MCD',\n",
    "                    start_date='2005-01-01', \n",
    "                    end_date = '2017-01-01', \n",
    "                    frequency='daily')"
   ]
  },
  {
   "cell_type": "code",
   "execution_count": null,
   "metadata": {},
   "outputs": [],
   "source": [
    "mcdon['close_price'].plot()"
   ]
  },
  {
   "cell_type": "code",
   "execution_count": null,
   "metadata": {},
   "outputs": [],
   "source": [
    "mcdon['close_price'].pct_change(1).hist(bins=100,figsize=(6,4))"
   ]
  },
  {
   "cell_type": "markdown",
   "metadata": {},
   "source": [
    "## symbols()\n",
    "\n",
    "Im Default gibt `symbols` das Wertpapierobjekt für ein Börsenschreibersymbol (ticker symbol) zurück. Gib ein Symbol oder eine Liste von Symbolen als String an und Du bekommst eine Liste der Wertpapiertobjekte zurück. \n",
    "\n",
    "- Verwende `symbol_reference_date`, um herauszufinden, für welches Datum du das Symbol für ein bestimmtes Ticker Symbol zurück haben willst.\n",
    "- Gib mit `handle_missing` an, wie mit fehlenden Ergebnissen umgegangen werden soll.\n"
   ]
  },
  {
   "cell_type": "code",
   "execution_count": null,
   "metadata": {},
   "outputs": [],
   "source": [
    "mcdon_eq_info = symbols('MCD')"
   ]
  },
  {
   "cell_type": "code",
   "execution_count": null,
   "metadata": {},
   "outputs": [],
   "source": [
    "type(mcdon_eq_info)"
   ]
  },
  {
   "cell_type": "code",
   "execution_count": null,
   "metadata": {},
   "outputs": [],
   "source": [
    "for key in mcdon_eq_info.to_dict():\n",
    "    print(key)\n",
    "    print(mcdon_eq_info.to_dict()[key])\n",
    "    print('\\n')"
   ]
  },
  {
   "cell_type": "markdown",
   "metadata": {},
   "source": [
    "## get_fundamentals()\n",
    "\n",
    "Die Funktion `get_fundamentals` bietet programmatischen Zugang zur grundlegenden Quantopian Datenbank. Basierend auf Daten von Morningstar, bietet `get_fundamentals` über 600 Firmenmetriken ab 2002 (um den Preisdaten von Quantopian zu entsprechen).\n",
    "\n",
    "Die in dieser Funktion verwendeten Daten sind dieselben, die von der Funktion `get_fundamentals` in der Quantopian IDE verwendet werden. Die Felder werden in den Hilfsdokumenten von Quantopian beschrieben: http://www.quantopian.com/help/fundamentals.\n"
   ]
  },
  {
   "cell_type": "code",
   "execution_count": null,
   "metadata": {},
   "outputs": [],
   "source": [
    "# Im Notebook musst Du zuerst Folgendes machen:\n",
    "fundamentals = init_fundamentals()"
   ]
  },
  {
   "cell_type": "markdown",
   "metadata": {},
   "source": [
    "Die Funktion get_fundamentals() verarbeitet eine SQLAlchemy Anfrage, die relativ kompliziert ist und auf den ersten Blick merkwürdig aussehen kann. Im Prinzip kannst Du damit nach einer Reihe von Grundbegriffen filtern (so etwas wie Börsenwert, Kurs-Gewinn-Verhältnis (P/E Ratio) oder sogar Sitz des Hauptquartiers). Sieh Dir den Link oben an, um alle Filter zu sehen, die Du verwenden kannst!\n",
    "\n",
    "Besprechen wir kurz ein paar Beispielanfragen.\n",
    "\n",
    "Zuerst solltest Du fundamentals aufrufen und die Tab-Taste benutzen, um die verschiedenen Optionen zu sehen:"
   ]
  },
  {
   "cell_type": "code",
   "execution_count": null,
   "metadata": {},
   "outputs": [],
   "source": [
    "fundamentals. # hier Tab drücken wie im Video!"
   ]
  },
  {
   "cell_type": "code",
   "execution_count": null,
   "metadata": {},
   "outputs": [],
   "source": [
    "# Börsenwert\n",
    "my_query = query(fundamentals.valuation.market_cap)"
   ]
  },
  {
   "cell_type": "code",
   "execution_count": null,
   "metadata": {},
   "outputs": [],
   "source": [
    "my_funds = get_fundamentals(my_query,'2017-01-01')"
   ]
  },
  {
   "cell_type": "code",
   "execution_count": null,
   "metadata": {},
   "outputs": [],
   "source": [
    "my_funds.info()"
   ]
  },
  {
   "cell_type": "code",
   "execution_count": null,
   "metadata": {},
   "outputs": [],
   "source": [
    "# Gibt im Prinzip nur den Börsenwert für alles zurück\n",
    "# für den 01.01.2017\n",
    "my_funds.head()"
   ]
  },
  {
   "cell_type": "code",
   "execution_count": null,
   "metadata": {},
   "outputs": [],
   "source": [
    "# Normalerweise filterst du nach der Anfrage nach anderen Eigenschaften.\n",
    "\n",
    "# Beachte nur Firmen, die mindestens 500 Milliarden wert sind (eine Menge Geld!)\n",
    "big_companies = (query(fundamentals.valuation.market_cap).\n",
    "                 filter(fundamentals.valuation.market_cap > 500000000000) )"
   ]
  },
  {
   "cell_type": "code",
   "execution_count": null,
   "metadata": {},
   "outputs": [],
   "source": [
    "my_big_funds = get_fundamentals(big_companies,'2017-07-19')"
   ]
  },
  {
   "cell_type": "code",
   "execution_count": null,
   "metadata": {},
   "outputs": [],
   "source": [
    "my_big_funds"
   ]
  },
  {
   "cell_type": "code",
   "execution_count": null,
   "metadata": {},
   "outputs": [],
   "source": [
    "7.82 * 10**11"
   ]
  },
  {
   "cell_type": "code",
   "execution_count": null,
   "metadata": {},
   "outputs": [],
   "source": [
    "get_fundamentals()"
   ]
  }
 ],
 "metadata": {
  "kernelspec": {
   "display_name": "Python 3 (ipykernel)",
   "language": "python",
   "name": "python3"
  },
  "language_info": {
   "codemirror_mode": {
    "name": "ipython",
    "version": 3
   },
   "file_extension": ".py",
   "mimetype": "text/x-python",
   "name": "python",
   "nbconvert_exporter": "python",
   "pygments_lexer": "ipython3",
   "version": "3.8.5"
  }
 },
 "nbformat": 4,
 "nbformat_minor": 2
}
