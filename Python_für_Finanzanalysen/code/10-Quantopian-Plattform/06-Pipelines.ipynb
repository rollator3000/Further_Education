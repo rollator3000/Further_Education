{
 "cells": [
  {
   "cell_type": "markdown",
   "metadata": {},
   "source": [
    "<a href=\"https://akademie.datamics.com/kursliste/\">![title](bg_datamics_top.png)</a>\n",
    "\n",
    "<center><em>© Datamics</em></center><br><center><em>Besuche uns für mehr Informationen auf <a href='https://akademie.datamics.com/kursliste/'>www.akademie.datamics.com</a></em></center>\n",
    "\n",
    "# Pipeline\n",
    "\n",
    "Dieses Notebook ist aus Quantopians offiziellem Pipeline Guide. Besuche ihre Dokumentation für viele weitere großartige Quellen!\n",
    "\n",
    "Viele Handelsalgorithmen haben die folgende Struktur:\n",
    "\n",
    "1. Für jeden Posten in einem bekannten (großen) Satz, berechne N skalare Werte für den Posten, basierend auf einem nacheilenden (trailing) Datenfenster.\n",
    "2. Wähle einen kleineren handelbaren Satz Posten, basierend auf den Werten aus (1).\n",
    "3. Berechne die Gewichte des angestrebten Portfolios auf dem Postensatz aus (2).\n",
    "4. Gib Bestellungen in Auftrag, um die Allokationen des aktuellen Portfolios des Algorithmus zu den angestrebten Gewichten aus (3) zu bewegen.\n",
    "\n",
    "Es gibt verschiedene technische Herausforderungen, wenn man dies auf solide Weise tun will. Dazu gehören:\n",
    "\n",
    "* effizient große Postensätze abfragen\n",
    "* Berechnungen auf großen Postensätzen durchführen\n",
    "* mit Anpassungen umgehen (Splits und Dividenden)\n",
    "* Börsenabgang (delisting) eines Postens\n",
    "\n",
    "Es gibt Pipeline, um diese Herausforderungen zu lösen, indem eine einheitliche API bereitgestellt wird, die Berechnungen auf einer vielseitigen Sammlung von Datensätzen ausdrücken kann."
   ]
  },
  {
   "cell_type": "markdown",
   "metadata": {},
   "source": [
    "## Faktoren\n",
    "\n",
    "Ein Faktor ist eine Funktion eines Wertpapiers und eines Zeitpunktes als numerischer Wert.\n",
    "\n",
    "Ein einfaches Beispiel eines Faktors ist der aktuellste Preis eines Wertpapiers. Wenn ein Wertpapier und ein bestimmter Zeitpunkt gegeben sind, ist der aktuellste Preis eine Zahl. Ein anderes Beispiel ist der 10-Tagesdurchschnitt des Handelsvolumens eines Wertpapiers. Faktoren werden am häufigsten dazu verwendet Wertpapieren Werte zuzuordnen, die dann auf verschiedenste Arten genutzt werden können. Ein Faktor kann in jeder der folgenden Prozeduren verwendet werden:\n",
    "* Zielgewichtungen berechnen\n",
    "* Alpha-Signal generieren\n",
    "* andere, komplexere Faktoren konstruieren\n",
    "* Filter erstellen"
   ]
  },
  {
   "cell_type": "markdown",
   "metadata": {},
   "source": [
    "## Filter\n",
    "\n",
    "Ein Filter ist eine Funktion eines Postens und eines Zeitpunktes als Boolean.\n",
    "Ein Beispiel eines Filters ist eine Funktion, die anzeigt ob der Preis eines Postens unter 10 Dollar liegt. Sind ein Wertpapier und ein Zeitpunkt gegeben, kommt dabei entweder True oder False raus. Filter werden meist zur Beschreibung von Postensätzen verwendet, die aus einem bestimmten Grund ein- oder ausgeschlossen werden sollen."
   ]
  },
  {
   "cell_type": "markdown",
   "metadata": {},
   "source": [
    "## Klassifikatoren\n",
    "\n",
    "Ein Klassifikator ist eine Funktion eines Postens und eines Zeitpunkts als kategorischer Output.\n",
    "Genauer gesagt produziert ein Klassifikator einen String oder einen Integer, der keinen numerischen Wert repräsentiert (z.B. ein Integerlabel wie einen Sektorcode). Klassifikatoren werden hauptsächlich dafür verwendet, Posten für komplexe Transformationen auf Faktoroutputs zu gruppieren. Ein Beispiel eines Klassifikators ist die Börse, an der der Posten zur Zeit gehandelt wird."
   ]
  },
  {
   "cell_type": "code",
   "execution_count": 1,
   "metadata": {
    "collapsed": true
   },
   "outputs": [],
   "source": [
    "from quantopian.pipeline import Pipeline"
   ]
  },
  {
   "cell_type": "code",
   "execution_count": 22,
   "metadata": {
    "collapsed": true
   },
   "outputs": [],
   "source": [
    "def make_pipeline():\n",
    "    return Pipeline() "
   ]
  },
  {
   "cell_type": "code",
   "execution_count": 23,
   "metadata": {
    "collapsed": true
   },
   "outputs": [],
   "source": [
    "pipe = make_pipeline()"
   ]
  },
  {
   "cell_type": "code",
   "execution_count": 24,
   "metadata": {
    "collapsed": true
   },
   "outputs": [],
   "source": [
    "from quantopian.research import run_pipeline"
   ]
  },
  {
   "cell_type": "code",
   "execution_count": 25,
   "metadata": {
    "collapsed": true
   },
   "outputs": [],
   "source": [
    "result = run_pipeline(pipe,'2017-01-01','2017-01-01')"
   ]
  },
  {
   "cell_type": "code",
   "execution_count": 26,
   "metadata": {},
   "outputs": [
    {
     "data": {
      "text/html": [
       "<div>\n",
       "<table border=\"1\" class=\"dataframe\">\n",
       "  <thead>\n",
       "    <tr style=\"text-align: right;\">\n",
       "      <th></th>\n",
       "      <th></th>\n",
       "    </tr>\n",
       "  </thead>\n",
       "  <tbody>\n",
       "    <tr>\n",
       "      <th rowspan=\"10\" valign=\"top\">2017-01-03 00:00:00+00:00</th>\n",
       "      <th>Equity(2 [ARNC])</th>\n",
       "    </tr>\n",
       "    <tr>\n",
       "      <th>Equity(21 [AAME])</th>\n",
       "    </tr>\n",
       "    <tr>\n",
       "      <th>Equity(24 [AAPL])</th>\n",
       "    </tr>\n",
       "    <tr>\n",
       "      <th>Equity(25 [ARNC_PR])</th>\n",
       "    </tr>\n",
       "    <tr>\n",
       "      <th>Equity(31 [ABAX])</th>\n",
       "    </tr>\n",
       "    <tr>\n",
       "      <th>Equity(39 [DDC])</th>\n",
       "    </tr>\n",
       "    <tr>\n",
       "      <th>Equity(41 [ARCB])</th>\n",
       "    </tr>\n",
       "    <tr>\n",
       "      <th>Equity(52 [ABM])</th>\n",
       "    </tr>\n",
       "    <tr>\n",
       "      <th>Equity(53 [ABMD])</th>\n",
       "    </tr>\n",
       "    <tr>\n",
       "      <th>Equity(62 [ABT])</th>\n",
       "    </tr>\n",
       "  </tbody>\n",
       "</table>\n",
       "</div>"
      ],
      "text/plain": [
       "Empty DataFrame\n",
       "Columns: []\n",
       "Index: [(2017-01-03 00:00:00+00:00, Equity(2 [ARNC])), (2017-01-03 00:00:00+00:00, Equity(21 [AAME])), (2017-01-03 00:00:00+00:00, Equity(24 [AAPL])), (2017-01-03 00:00:00+00:00, Equity(25 [ARNC_PR])), (2017-01-03 00:00:00+00:00, Equity(31 [ABAX])), (2017-01-03 00:00:00+00:00, Equity(39 [DDC])), (2017-01-03 00:00:00+00:00, Equity(41 [ARCB])), (2017-01-03 00:00:00+00:00, Equity(52 [ABM])), (2017-01-03 00:00:00+00:00, Equity(53 [ABMD])), (2017-01-03 00:00:00+00:00, Equity(62 [ABT]))]"
      ]
     },
     "execution_count": 26,
     "metadata": {},
     "output_type": "execute_result"
    }
   ],
   "source": [
    "result.head(10)"
   ]
  },
  {
   "cell_type": "code",
   "execution_count": 27,
   "metadata": {},
   "outputs": [
    {
     "name": "stdout",
     "output_type": "stream",
     "text": [
      "<class 'pandas.core.frame.DataFrame'>\n",
      "MultiIndex: 8343 entries, (2017-01-03 00:00:00+00:00, Equity(2 [ARNC])) to (2017-01-03 00:00:00+00:00, Equity(50569 [OUSM]))\n",
      "Empty DataFrame"
     ]
    }
   ],
   "source": [
    "result.info()"
   ]
  },
  {
   "cell_type": "markdown",
   "metadata": {},
   "source": [
    "# Daten"
   ]
  },
  {
   "cell_type": "code",
   "execution_count": 36,
   "metadata": {
    "collapsed": true
   },
   "outputs": [],
   "source": [
    "from quantopian.pipeline.data.builtin import USEquityPricing"
   ]
  },
  {
   "cell_type": "markdown",
   "metadata": {},
   "source": [
    "## Faktoren\n",
    "\n",
    "Denke daran, dass Faktoren einen Posten und einen Zeitstempel verwenden und einen numerischen Wert zurückgeben."
   ]
  },
  {
   "cell_type": "code",
   "execution_count": 38,
   "metadata": {
    "collapsed": true
   },
   "outputs": [],
   "source": [
    "from quantopian.pipeline.factors import BollingerBands,SimpleMovingAverage,EWMA"
   ]
  },
  {
   "cell_type": "code",
   "execution_count": 40,
   "metadata": {},
   "outputs": [
    {
     "data": {
      "text/plain": [
       "SimpleMovingAverage((USEquityPricing.close::float64,), window_length=30)"
      ]
     },
     "execution_count": 40,
     "metadata": {},
     "output_type": "execute_result"
    }
   ],
   "source": [
    "SimpleMovingAverage(inputs=[USEquityPricing.close],window_length=30)"
   ]
  },
  {
   "cell_type": "code",
   "execution_count": 41,
   "metadata": {
    "collapsed": true
   },
   "outputs": [],
   "source": [
    "def make_pipeline():\n",
    "    \n",
    "    mean_close_30 = SimpleMovingAverage(inputs=[USEquityPricing.close],window_length=30)\n",
    "    \n",
    "    return Pipeline(columns={\n",
    "        '30 Day Mean Close':mean_close_30\n",
    "    })"
   ]
  },
  {
   "cell_type": "code",
   "execution_count": 46,
   "metadata": {
    "collapsed": true
   },
   "outputs": [],
   "source": [
    "results = run_pipeline(make_pipeline(),'2017-01-01','2017-01-01')"
   ]
  },
  {
   "cell_type": "code",
   "execution_count": 48,
   "metadata": {},
   "outputs": [
    {
     "data": {
      "text/html": [
       "<div>\n",
       "<table border=\"1\" class=\"dataframe\">\n",
       "  <thead>\n",
       "    <tr style=\"text-align: right;\">\n",
       "      <th></th>\n",
       "      <th></th>\n",
       "      <th>30 Day Mean Close</th>\n",
       "    </tr>\n",
       "  </thead>\n",
       "  <tbody>\n",
       "    <tr>\n",
       "      <th rowspan=\"20\" valign=\"top\">2017-01-03 00:00:00+00:00</th>\n",
       "      <th>Equity(2 [ARNC])</th>\n",
       "      <td>20.110500</td>\n",
       "    </tr>\n",
       "    <tr>\n",
       "      <th>Equity(21 [AAME])</th>\n",
       "      <td>3.899241</td>\n",
       "    </tr>\n",
       "    <tr>\n",
       "      <th>Equity(24 [AAPL])</th>\n",
       "      <td>113.368433</td>\n",
       "    </tr>\n",
       "    <tr>\n",
       "      <th>Equity(25 [ARNC_PR])</th>\n",
       "      <td>86.796111</td>\n",
       "    </tr>\n",
       "    <tr>\n",
       "      <th>Equity(31 [ABAX])</th>\n",
       "      <td>52.498394</td>\n",
       "    </tr>\n",
       "    <tr>\n",
       "      <th>Equity(39 [DDC])</th>\n",
       "      <td>9.523000</td>\n",
       "    </tr>\n",
       "    <tr>\n",
       "      <th>Equity(41 [ARCB])</th>\n",
       "      <td>29.969167</td>\n",
       "    </tr>\n",
       "    <tr>\n",
       "      <th>Equity(52 [ABM])</th>\n",
       "      <td>42.138239</td>\n",
       "    </tr>\n",
       "    <tr>\n",
       "      <th>Equity(53 [ABMD])</th>\n",
       "      <td>114.030167</td>\n",
       "    </tr>\n",
       "    <tr>\n",
       "      <th>Equity(62 [ABT])</th>\n",
       "      <td>38.664333</td>\n",
       "    </tr>\n",
       "    <tr>\n",
       "      <th>Equity(64 [ABX])</th>\n",
       "      <td>15.117736</td>\n",
       "    </tr>\n",
       "    <tr>\n",
       "      <th>Equity(66 [AB])</th>\n",
       "      <td>23.119167</td>\n",
       "    </tr>\n",
       "    <tr>\n",
       "      <th>Equity(67 [ADSK])</th>\n",
       "      <td>75.960667</td>\n",
       "    </tr>\n",
       "    <tr>\n",
       "      <th>Equity(69 [ACAT])</th>\n",
       "      <td>15.839500</td>\n",
       "    </tr>\n",
       "    <tr>\n",
       "      <th>Equity(70 [VBF])</th>\n",
       "      <td>18.208480</td>\n",
       "    </tr>\n",
       "    <tr>\n",
       "      <th>Equity(76 [TAP])</th>\n",
       "      <td>97.727924</td>\n",
       "    </tr>\n",
       "    <tr>\n",
       "      <th>Equity(84 [ACET])</th>\n",
       "      <td>20.722753</td>\n",
       "    </tr>\n",
       "    <tr>\n",
       "      <th>Equity(100 [IEP])</th>\n",
       "      <td>59.281167</td>\n",
       "    </tr>\n",
       "    <tr>\n",
       "      <th>Equity(106 [ACU])</th>\n",
       "      <td>22.628433</td>\n",
       "    </tr>\n",
       "    <tr>\n",
       "      <th>Equity(110 [ACXM])</th>\n",
       "      <td>26.800333</td>\n",
       "    </tr>\n",
       "  </tbody>\n",
       "</table>\n",
       "</div>"
      ],
      "text/plain": [
       "                                                30 Day Mean Close\n",
       "2017-01-03 00:00:00+00:00 Equity(2 [ARNC])              20.110500\n",
       "                          Equity(21 [AAME])              3.899241\n",
       "                          Equity(24 [AAPL])            113.368433\n",
       "                          Equity(25 [ARNC_PR])          86.796111\n",
       "                          Equity(31 [ABAX])             52.498394\n",
       "                          Equity(39 [DDC])               9.523000\n",
       "                          Equity(41 [ARCB])             29.969167\n",
       "                          Equity(52 [ABM])              42.138239\n",
       "                          Equity(53 [ABMD])            114.030167\n",
       "                          Equity(62 [ABT])              38.664333\n",
       "                          Equity(64 [ABX])              15.117736\n",
       "                          Equity(66 [AB])               23.119167\n",
       "                          Equity(67 [ADSK])             75.960667\n",
       "                          Equity(69 [ACAT])             15.839500\n",
       "                          Equity(70 [VBF])              18.208480\n",
       "                          Equity(76 [TAP])              97.727924\n",
       "                          Equity(84 [ACET])             20.722753\n",
       "                          Equity(100 [IEP])             59.281167\n",
       "                          Equity(106 [ACU])             22.628433\n",
       "                          Equity(110 [ACXM])            26.800333"
      ]
     },
     "execution_count": 48,
     "metadata": {},
     "output_type": "execute_result"
    }
   ],
   "source": [
    "results.head(20)"
   ]
  },
  {
   "cell_type": "code",
   "execution_count": 49,
   "metadata": {
    "collapsed": true
   },
   "outputs": [],
   "source": [
    "def make_pipeline():\n",
    "    \n",
    "    mean_close_30 = SimpleMovingAverage(inputs=[USEquityPricing.close],window_length=30)\n",
    "    latest_close = USEquityPricing.close.latest\n",
    "    \n",
    "    return Pipeline(columns={\n",
    "        '30 Day Mean Close':mean_close_30,\n",
    "        'Latest Close':latest_close\n",
    "    })"
   ]
  },
  {
   "cell_type": "code",
   "execution_count": 50,
   "metadata": {
    "collapsed": true
   },
   "outputs": [],
   "source": [
    "results = run_pipeline(make_pipeline(),'2017-01-01','2017-01-01')"
   ]
  },
  {
   "cell_type": "code",
   "execution_count": 52,
   "metadata": {},
   "outputs": [
    {
     "data": {
      "text/html": [
       "<div>\n",
       "<table border=\"1\" class=\"dataframe\">\n",
       "  <thead>\n",
       "    <tr style=\"text-align: right;\">\n",
       "      <th></th>\n",
       "      <th></th>\n",
       "      <th>30 Day Mean Close</th>\n",
       "      <th>Latest Close</th>\n",
       "    </tr>\n",
       "  </thead>\n",
       "  <tbody>\n",
       "    <tr>\n",
       "      <th rowspan=\"10\" valign=\"top\">2017-01-03 00:00:00+00:00</th>\n",
       "      <th>Equity(2 [ARNC])</th>\n",
       "      <td>20.110500</td>\n",
       "      <td>18.55</td>\n",
       "    </tr>\n",
       "    <tr>\n",
       "      <th>Equity(21 [AAME])</th>\n",
       "      <td>3.899241</td>\n",
       "      <td>4.10</td>\n",
       "    </tr>\n",
       "    <tr>\n",
       "      <th>Equity(24 [AAPL])</th>\n",
       "      <td>113.368433</td>\n",
       "      <td>115.84</td>\n",
       "    </tr>\n",
       "    <tr>\n",
       "      <th>Equity(25 [ARNC_PR])</th>\n",
       "      <td>86.796111</td>\n",
       "      <td>NaN</td>\n",
       "    </tr>\n",
       "    <tr>\n",
       "      <th>Equity(31 [ABAX])</th>\n",
       "      <td>52.498394</td>\n",
       "      <td>52.74</td>\n",
       "    </tr>\n",
       "    <tr>\n",
       "      <th>Equity(39 [DDC])</th>\n",
       "      <td>9.523000</td>\n",
       "      <td>9.69</td>\n",
       "    </tr>\n",
       "    <tr>\n",
       "      <th>Equity(41 [ARCB])</th>\n",
       "      <td>29.969167</td>\n",
       "      <td>27.75</td>\n",
       "    </tr>\n",
       "    <tr>\n",
       "      <th>Equity(52 [ABM])</th>\n",
       "      <td>42.138239</td>\n",
       "      <td>40.68</td>\n",
       "    </tr>\n",
       "    <tr>\n",
       "      <th>Equity(53 [ABMD])</th>\n",
       "      <td>114.030167</td>\n",
       "      <td>112.70</td>\n",
       "    </tr>\n",
       "    <tr>\n",
       "      <th>Equity(62 [ABT])</th>\n",
       "      <td>38.664333</td>\n",
       "      <td>38.42</td>\n",
       "    </tr>\n",
       "  </tbody>\n",
       "</table>\n",
       "</div>"
      ],
      "text/plain": [
       "                                                30 Day Mean Close  \\\n",
       "2017-01-03 00:00:00+00:00 Equity(2 [ARNC])              20.110500   \n",
       "                          Equity(21 [AAME])              3.899241   \n",
       "                          Equity(24 [AAPL])            113.368433   \n",
       "                          Equity(25 [ARNC_PR])          86.796111   \n",
       "                          Equity(31 [ABAX])             52.498394   \n",
       "                          Equity(39 [DDC])               9.523000   \n",
       "                          Equity(41 [ARCB])             29.969167   \n",
       "                          Equity(52 [ABM])              42.138239   \n",
       "                          Equity(53 [ABMD])            114.030167   \n",
       "                          Equity(62 [ABT])              38.664333   \n",
       "\n",
       "                                                Latest Close  \n",
       "2017-01-03 00:00:00+00:00 Equity(2 [ARNC])             18.55  \n",
       "                          Equity(21 [AAME])             4.10  \n",
       "                          Equity(24 [AAPL])           115.84  \n",
       "                          Equity(25 [ARNC_PR])           NaN  \n",
       "                          Equity(31 [ABAX])            52.74  \n",
       "                          Equity(39 [DDC])              9.69  \n",
       "                          Equity(41 [ARCB])            27.75  \n",
       "                          Equity(52 [ABM])             40.68  \n",
       "                          Equity(53 [ABMD])           112.70  \n",
       "                          Equity(62 [ABT])             38.42  "
      ]
     },
     "execution_count": 52,
     "metadata": {},
     "output_type": "execute_result"
    }
   ],
   "source": [
    "results.head(10)"
   ]
  },
  {
   "cell_type": "markdown",
   "metadata": {},
   "source": [
    "## Faktoren kombinieren "
   ]
  },
  {
   "cell_type": "code",
   "execution_count": 54,
   "metadata": {},
   "outputs": [],
   "source": [
    "def make_pipeline():\n",
    "    \n",
    "    mean_close_10 = SimpleMovingAverage(inputs=[USEquityPricing.close],window_length=10)\n",
    "    mean_close_30 = SimpleMovingAverage(inputs=[USEquityPricing.close],window_length=30)\n",
    "    latest_close = USEquityPricing.close.latest\n",
    "    \n",
    "    percent_difference = (mean_close_10-mean_close_30) / mean_close_30\n",
    "    \n",
    "    return Pipeline(columns={\n",
    "        'Percent Difference':percent_difference,\n",
    "        '30 Day Mean Close':mean_close_30,\n",
    "        'Latest Close':latest_close\n",
    "    })"
   ]
  },
  {
   "cell_type": "code",
   "execution_count": 55,
   "metadata": {
    "collapsed": true
   },
   "outputs": [],
   "source": [
    "results = run_pipeline(make_pipeline(),'2017-01-01','2017-01-01')"
   ]
  },
  {
   "cell_type": "code",
   "execution_count": 56,
   "metadata": {},
   "outputs": [
    {
     "data": {
      "text/html": [
       "<div>\n",
       "<table border=\"1\" class=\"dataframe\">\n",
       "  <thead>\n",
       "    <tr style=\"text-align: right;\">\n",
       "      <th></th>\n",
       "      <th></th>\n",
       "      <th>30 Day Mean Close</th>\n",
       "      <th>Latest Close</th>\n",
       "      <th>Percent Difference</th>\n",
       "    </tr>\n",
       "  </thead>\n",
       "  <tbody>\n",
       "    <tr>\n",
       "      <th rowspan=\"5\" valign=\"top\">2017-01-03 00:00:00+00:00</th>\n",
       "      <th>Equity(2 [ARNC])</th>\n",
       "      <td>20.110500</td>\n",
       "      <td>18.55</td>\n",
       "      <td>-0.022749</td>\n",
       "    </tr>\n",
       "    <tr>\n",
       "      <th>Equity(21 [AAME])</th>\n",
       "      <td>3.899241</td>\n",
       "      <td>4.10</td>\n",
       "      <td>-0.005499</td>\n",
       "    </tr>\n",
       "    <tr>\n",
       "      <th>Equity(24 [AAPL])</th>\n",
       "      <td>113.368433</td>\n",
       "      <td>115.84</td>\n",
       "      <td>0.028481</td>\n",
       "    </tr>\n",
       "    <tr>\n",
       "      <th>Equity(25 [ARNC_PR])</th>\n",
       "      <td>86.796111</td>\n",
       "      <td>NaN</td>\n",
       "      <td>-0.000474</td>\n",
       "    </tr>\n",
       "    <tr>\n",
       "      <th>Equity(31 [ABAX])</th>\n",
       "      <td>52.498394</td>\n",
       "      <td>52.74</td>\n",
       "      <td>-0.007665</td>\n",
       "    </tr>\n",
       "  </tbody>\n",
       "</table>\n",
       "</div>"
      ],
      "text/plain": [
       "                                                30 Day Mean Close  \\\n",
       "2017-01-03 00:00:00+00:00 Equity(2 [ARNC])              20.110500   \n",
       "                          Equity(21 [AAME])              3.899241   \n",
       "                          Equity(24 [AAPL])            113.368433   \n",
       "                          Equity(25 [ARNC_PR])          86.796111   \n",
       "                          Equity(31 [ABAX])             52.498394   \n",
       "\n",
       "                                                Latest Close  \\\n",
       "2017-01-03 00:00:00+00:00 Equity(2 [ARNC])             18.55   \n",
       "                          Equity(21 [AAME])             4.10   \n",
       "                          Equity(24 [AAPL])           115.84   \n",
       "                          Equity(25 [ARNC_PR])           NaN   \n",
       "                          Equity(31 [ABAX])            52.74   \n",
       "\n",
       "                                                Percent Difference  \n",
       "2017-01-03 00:00:00+00:00 Equity(2 [ARNC])               -0.022749  \n",
       "                          Equity(21 [AAME])              -0.005499  \n",
       "                          Equity(24 [AAPL])               0.028481  \n",
       "                          Equity(25 [ARNC_PR])           -0.000474  \n",
       "                          Equity(31 [ABAX])              -0.007665  "
      ]
     },
     "execution_count": 56,
     "metadata": {},
     "output_type": "execute_result"
    }
   ],
   "source": [
    "results.head()"
   ]
  },
  {
   "cell_type": "markdown",
   "metadata": {},
   "source": [
    "# Filter und Bildschirme (Screens)\n",
    "\n",
    "Filter nehmen einen Posten und einen Zeitstempel und geben einen Boolean zurück."
   ]
  },
  {
   "cell_type": "code",
   "execution_count": 57,
   "metadata": {
    "collapsed": true
   },
   "outputs": [],
   "source": [
    "last_close_price = USEquityPricing.close.latest\n",
    "close_price_filter = last_close_price > 20"
   ]
  },
  {
   "cell_type": "code",
   "execution_count": 58,
   "metadata": {},
   "outputs": [
    {
     "data": {
      "text/plain": [
       "NumExprFilter(expr='x_0 > (20.0)', bindings={'x_0': Latest((USEquityPricing.close::float64,), window_length=1)})"
      ]
     },
     "execution_count": 58,
     "metadata": {},
     "output_type": "execute_result"
    }
   ],
   "source": [
    "close_price_filter"
   ]
  },
  {
   "cell_type": "code",
   "execution_count": 59,
   "metadata": {
    "collapsed": true
   },
   "outputs": [],
   "source": [
    "def make_pipeline():\n",
    "    \n",
    "    mean_close_10 = SimpleMovingAverage(inputs=[USEquityPricing.close],window_length=10)\n",
    "    mean_close_30 = SimpleMovingAverage(inputs=[USEquityPricing.close],window_length=30)\n",
    "    latest_close = USEquityPricing.close.latest\n",
    "    \n",
    "    percent_difference = (mean_close_10-mean_close_30) / mean_close_30\n",
    "    \n",
    "    perc_diff_check = percent_difference > 0 \n",
    "    \n",
    "    return Pipeline(columns={\n",
    "        'Percent Difference':percent_difference,\n",
    "        '30 Day Mean Close':mean_close_30,\n",
    "        'Latest Close':latest_close,\n",
    "        'Positive Percent Diff': perc_diff_check\n",
    "    })"
   ]
  },
  {
   "cell_type": "code",
   "execution_count": 60,
   "metadata": {},
   "outputs": [
    {
     "data": {
      "text/html": [
       "<div>\n",
       "<table border=\"1\" class=\"dataframe\">\n",
       "  <thead>\n",
       "    <tr style=\"text-align: right;\">\n",
       "      <th></th>\n",
       "      <th></th>\n",
       "      <th>30 Day Mean Close</th>\n",
       "      <th>Latest Close</th>\n",
       "      <th>Percent Difference</th>\n",
       "      <th>Positive Percent Diff</th>\n",
       "    </tr>\n",
       "  </thead>\n",
       "  <tbody>\n",
       "    <tr>\n",
       "      <th rowspan=\"5\" valign=\"top\">2017-01-03 00:00:00+00:00</th>\n",
       "      <th>Equity(2 [ARNC])</th>\n",
       "      <td>20.110500</td>\n",
       "      <td>18.55</td>\n",
       "      <td>-0.022749</td>\n",
       "      <td>False</td>\n",
       "    </tr>\n",
       "    <tr>\n",
       "      <th>Equity(21 [AAME])</th>\n",
       "      <td>3.899241</td>\n",
       "      <td>4.10</td>\n",
       "      <td>-0.005499</td>\n",
       "      <td>False</td>\n",
       "    </tr>\n",
       "    <tr>\n",
       "      <th>Equity(24 [AAPL])</th>\n",
       "      <td>113.368433</td>\n",
       "      <td>115.84</td>\n",
       "      <td>0.028481</td>\n",
       "      <td>True</td>\n",
       "    </tr>\n",
       "    <tr>\n",
       "      <th>Equity(25 [ARNC_PR])</th>\n",
       "      <td>86.796111</td>\n",
       "      <td>NaN</td>\n",
       "      <td>-0.000474</td>\n",
       "      <td>False</td>\n",
       "    </tr>\n",
       "    <tr>\n",
       "      <th>Equity(31 [ABAX])</th>\n",
       "      <td>52.498394</td>\n",
       "      <td>52.74</td>\n",
       "      <td>-0.007665</td>\n",
       "      <td>False</td>\n",
       "    </tr>\n",
       "  </tbody>\n",
       "</table>\n",
       "</div>"
      ],
      "text/plain": [
       "                                                30 Day Mean Close  \\\n",
       "2017-01-03 00:00:00+00:00 Equity(2 [ARNC])              20.110500   \n",
       "                          Equity(21 [AAME])              3.899241   \n",
       "                          Equity(24 [AAPL])            113.368433   \n",
       "                          Equity(25 [ARNC_PR])          86.796111   \n",
       "                          Equity(31 [ABAX])             52.498394   \n",
       "\n",
       "                                                Latest Close  \\\n",
       "2017-01-03 00:00:00+00:00 Equity(2 [ARNC])             18.55   \n",
       "                          Equity(21 [AAME])             4.10   \n",
       "                          Equity(24 [AAPL])           115.84   \n",
       "                          Equity(25 [ARNC_PR])           NaN   \n",
       "                          Equity(31 [ABAX])            52.74   \n",
       "\n",
       "                                                Percent Difference  \\\n",
       "2017-01-03 00:00:00+00:00 Equity(2 [ARNC])               -0.022749   \n",
       "                          Equity(21 [AAME])              -0.005499   \n",
       "                          Equity(24 [AAPL])               0.028481   \n",
       "                          Equity(25 [ARNC_PR])           -0.000474   \n",
       "                          Equity(31 [ABAX])              -0.007665   \n",
       "\n",
       "                                               Positive Percent Diff  \n",
       "2017-01-03 00:00:00+00:00 Equity(2 [ARNC])                     False  \n",
       "                          Equity(21 [AAME])                    False  \n",
       "                          Equity(24 [AAPL])                     True  \n",
       "                          Equity(25 [ARNC_PR])                 False  \n",
       "                          Equity(31 [ABAX])                    False  "
      ]
     },
     "execution_count": 60,
     "metadata": {},
     "output_type": "execute_result"
    }
   ],
   "source": [
    "results = run_pipeline(make_pipeline(),'2017-01-01','2017-01-01')\n",
    "results.head()"
   ]
  },
  {
   "cell_type": "markdown",
   "metadata": {},
   "source": [
    "## Bildschirme"
   ]
  },
  {
   "cell_type": "code",
   "execution_count": 61,
   "metadata": {
    "collapsed": true
   },
   "outputs": [],
   "source": [
    "def make_pipeline():\n",
    "    \n",
    "    mean_close_10 = SimpleMovingAverage(inputs=[USEquityPricing.close],window_length=10)\n",
    "    mean_close_30 = SimpleMovingAverage(inputs=[USEquityPricing.close],window_length=30)\n",
    "    latest_close = USEquityPricing.close.latest\n",
    "    \n",
    "    percent_difference = (mean_close_10-mean_close_30) / mean_close_30\n",
    "    \n",
    "    perc_diff_check = percent_difference > 0 \n",
    "    \n",
    "    return Pipeline(columns={\n",
    "                            'Percent Difference':percent_difference,\n",
    "                            '30 Day Mean Close':mean_close_30,\n",
    "                            'Latest Close':latest_close,\n",
    "                            'Positive Percent Diff': perc_diff_check},\n",
    "                    screen=perc_diff_check)"
   ]
  },
  {
   "cell_type": "code",
   "execution_count": 62,
   "metadata": {},
   "outputs": [
    {
     "data": {
      "text/html": [
       "<div>\n",
       "<table border=\"1\" class=\"dataframe\">\n",
       "  <thead>\n",
       "    <tr style=\"text-align: right;\">\n",
       "      <th></th>\n",
       "      <th></th>\n",
       "      <th>30 Day Mean Close</th>\n",
       "      <th>Latest Close</th>\n",
       "      <th>Percent Difference</th>\n",
       "      <th>Positive Percent Diff</th>\n",
       "    </tr>\n",
       "  </thead>\n",
       "  <tbody>\n",
       "    <tr>\n",
       "      <th rowspan=\"5\" valign=\"top\">2017-01-03 00:00:00+00:00</th>\n",
       "      <th>Equity(24 [AAPL])</th>\n",
       "      <td>113.368433</td>\n",
       "      <td>115.84</td>\n",
       "      <td>0.028481</td>\n",
       "      <td>True</td>\n",
       "    </tr>\n",
       "    <tr>\n",
       "      <th>Equity(66 [AB])</th>\n",
       "      <td>23.119167</td>\n",
       "      <td>23.45</td>\n",
       "      <td>0.004578</td>\n",
       "      <td>True</td>\n",
       "    </tr>\n",
       "    <tr>\n",
       "      <th>Equity(69 [ACAT])</th>\n",
       "      <td>15.839500</td>\n",
       "      <td>15.02</td>\n",
       "      <td>0.009375</td>\n",
       "      <td>True</td>\n",
       "    </tr>\n",
       "    <tr>\n",
       "      <th>Equity(70 [VBF])</th>\n",
       "      <td>18.208480</td>\n",
       "      <td>18.49</td>\n",
       "      <td>0.011814</td>\n",
       "      <td>True</td>\n",
       "    </tr>\n",
       "    <tr>\n",
       "      <th>Equity(84 [ACET])</th>\n",
       "      <td>20.722753</td>\n",
       "      <td>21.97</td>\n",
       "      <td>0.039630</td>\n",
       "      <td>True</td>\n",
       "    </tr>\n",
       "  </tbody>\n",
       "</table>\n",
       "</div>"
      ],
      "text/plain": [
       "                                             30 Day Mean Close  Latest Close  \\\n",
       "2017-01-03 00:00:00+00:00 Equity(24 [AAPL])         113.368433        115.84   \n",
       "                          Equity(66 [AB])            23.119167         23.45   \n",
       "                          Equity(69 [ACAT])          15.839500         15.02   \n",
       "                          Equity(70 [VBF])           18.208480         18.49   \n",
       "                          Equity(84 [ACET])          20.722753         21.97   \n",
       "\n",
       "                                             Percent Difference  \\\n",
       "2017-01-03 00:00:00+00:00 Equity(24 [AAPL])            0.028481   \n",
       "                          Equity(66 [AB])              0.004578   \n",
       "                          Equity(69 [ACAT])            0.009375   \n",
       "                          Equity(70 [VBF])             0.011814   \n",
       "                          Equity(84 [ACET])            0.039630   \n",
       "\n",
       "                                            Positive Percent Diff  \n",
       "2017-01-03 00:00:00+00:00 Equity(24 [AAPL])                  True  \n",
       "                          Equity(66 [AB])                    True  \n",
       "                          Equity(69 [ACAT])                  True  \n",
       "                          Equity(70 [VBF])                   True  \n",
       "                          Equity(84 [ACET])                  True  "
      ]
     },
     "execution_count": 62,
     "metadata": {},
     "output_type": "execute_result"
    }
   ],
   "source": [
    "results = run_pipeline(make_pipeline(),'2017-01-01','2017-01-01')\n",
    "results.head()"
   ]
  },
  {
   "cell_type": "markdown",
   "metadata": {},
   "source": [
    "### Bildschirm umkehren"
   ]
  },
  {
   "cell_type": "code",
   "execution_count": 63,
   "metadata": {
    "collapsed": true
   },
   "outputs": [],
   "source": [
    "def make_pipeline():\n",
    "    \n",
    "    mean_close_10 = SimpleMovingAverage(inputs=[USEquityPricing.close],window_length=10)\n",
    "    mean_close_30 = SimpleMovingAverage(inputs=[USEquityPricing.close],window_length=30)\n",
    "    latest_close = USEquityPricing.close.latest\n",
    "    \n",
    "    percent_difference = (mean_close_10-mean_close_30) / mean_close_30\n",
    "    \n",
    "    perc_diff_check = percent_difference > 0 \n",
    "    \n",
    "    return Pipeline(columns={\n",
    "                            'Percent Difference':percent_difference,\n",
    "                            '30 Day Mean Close':mean_close_30,\n",
    "                            'Latest Close':latest_close,\n",
    "                            'Positive Percent Diff': perc_diff_check},\n",
    "                    screen=~perc_diff_check)"
   ]
  },
  {
   "cell_type": "code",
   "execution_count": 64,
   "metadata": {},
   "outputs": [
    {
     "data": {
      "text/html": [
       "<div>\n",
       "<table border=\"1\" class=\"dataframe\">\n",
       "  <thead>\n",
       "    <tr style=\"text-align: right;\">\n",
       "      <th></th>\n",
       "      <th></th>\n",
       "      <th>30 Day Mean Close</th>\n",
       "      <th>Latest Close</th>\n",
       "      <th>Percent Difference</th>\n",
       "      <th>Positive Percent Diff</th>\n",
       "    </tr>\n",
       "  </thead>\n",
       "  <tbody>\n",
       "    <tr>\n",
       "      <th rowspan=\"5\" valign=\"top\">2017-01-03 00:00:00+00:00</th>\n",
       "      <th>Equity(2 [ARNC])</th>\n",
       "      <td>20.110500</td>\n",
       "      <td>18.55</td>\n",
       "      <td>-0.022749</td>\n",
       "      <td>False</td>\n",
       "    </tr>\n",
       "    <tr>\n",
       "      <th>Equity(21 [AAME])</th>\n",
       "      <td>3.899241</td>\n",
       "      <td>4.10</td>\n",
       "      <td>-0.005499</td>\n",
       "      <td>False</td>\n",
       "    </tr>\n",
       "    <tr>\n",
       "      <th>Equity(25 [ARNC_PR])</th>\n",
       "      <td>86.796111</td>\n",
       "      <td>NaN</td>\n",
       "      <td>-0.000474</td>\n",
       "      <td>False</td>\n",
       "    </tr>\n",
       "    <tr>\n",
       "      <th>Equity(31 [ABAX])</th>\n",
       "      <td>52.498394</td>\n",
       "      <td>52.74</td>\n",
       "      <td>-0.007665</td>\n",
       "      <td>False</td>\n",
       "    </tr>\n",
       "    <tr>\n",
       "      <th>Equity(39 [DDC])</th>\n",
       "      <td>9.523000</td>\n",
       "      <td>9.69</td>\n",
       "      <td>-0.015436</td>\n",
       "      <td>False</td>\n",
       "    </tr>\n",
       "  </tbody>\n",
       "</table>\n",
       "</div>"
      ],
      "text/plain": [
       "                                                30 Day Mean Close  \\\n",
       "2017-01-03 00:00:00+00:00 Equity(2 [ARNC])              20.110500   \n",
       "                          Equity(21 [AAME])              3.899241   \n",
       "                          Equity(25 [ARNC_PR])          86.796111   \n",
       "                          Equity(31 [ABAX])             52.498394   \n",
       "                          Equity(39 [DDC])               9.523000   \n",
       "\n",
       "                                                Latest Close  \\\n",
       "2017-01-03 00:00:00+00:00 Equity(2 [ARNC])             18.55   \n",
       "                          Equity(21 [AAME])             4.10   \n",
       "                          Equity(25 [ARNC_PR])           NaN   \n",
       "                          Equity(31 [ABAX])            52.74   \n",
       "                          Equity(39 [DDC])              9.69   \n",
       "\n",
       "                                                Percent Difference  \\\n",
       "2017-01-03 00:00:00+00:00 Equity(2 [ARNC])               -0.022749   \n",
       "                          Equity(21 [AAME])              -0.005499   \n",
       "                          Equity(25 [ARNC_PR])           -0.000474   \n",
       "                          Equity(31 [ABAX])              -0.007665   \n",
       "                          Equity(39 [DDC])               -0.015436   \n",
       "\n",
       "                                               Positive Percent Diff  \n",
       "2017-01-03 00:00:00+00:00 Equity(2 [ARNC])                     False  \n",
       "                          Equity(21 [AAME])                    False  \n",
       "                          Equity(25 [ARNC_PR])                 False  \n",
       "                          Equity(31 [ABAX])                    False  \n",
       "                          Equity(39 [DDC])                     False  "
      ]
     },
     "execution_count": 64,
     "metadata": {},
     "output_type": "execute_result"
    }
   ],
   "source": [
    "results = run_pipeline(make_pipeline(),'2017-01-01','2017-01-01')\n",
    "results.head()"
   ]
  },
  {
   "cell_type": "markdown",
   "metadata": {},
   "source": [
    "## Filter kombinieren"
   ]
  },
  {
   "cell_type": "code",
   "execution_count": 65,
   "metadata": {
    "collapsed": true
   },
   "outputs": [],
   "source": [
    "def make_pipeline():\n",
    "    \n",
    "    mean_close_10 = SimpleMovingAverage(inputs=[USEquityPricing.close],window_length=10)\n",
    "    mean_close_30 = SimpleMovingAverage(inputs=[USEquityPricing.close],window_length=30)\n",
    "    latest_close = USEquityPricing.close.latest\n",
    "    \n",
    "    percent_difference = (mean_close_10-mean_close_30) / mean_close_30\n",
    "    \n",
    "    perc_diff_check = percent_difference > 0 \n",
    "    small_price = latest_close < 5\n",
    "    \n",
    "    final_filter = perc_diff_check & small_price\n",
    "    \n",
    "    return Pipeline(columns={\n",
    "                            'Percent Difference':percent_difference,\n",
    "                            '30 Day Mean Close':mean_close_30,\n",
    "                            'Latest Close':latest_close,\n",
    "                            'Positive Percent Diff': perc_diff_check},\n",
    "                    screen=final_filter)"
   ]
  },
  {
   "cell_type": "code",
   "execution_count": 66,
   "metadata": {},
   "outputs": [
    {
     "data": {
      "text/html": [
       "<div>\n",
       "<table border=\"1\" class=\"dataframe\">\n",
       "  <thead>\n",
       "    <tr style=\"text-align: right;\">\n",
       "      <th></th>\n",
       "      <th></th>\n",
       "      <th>30 Day Mean Close</th>\n",
       "      <th>Latest Close</th>\n",
       "      <th>Percent Difference</th>\n",
       "      <th>Positive Percent Diff</th>\n",
       "    </tr>\n",
       "  </thead>\n",
       "  <tbody>\n",
       "    <tr>\n",
       "      <th rowspan=\"5\" valign=\"top\">2017-01-03 00:00:00+00:00</th>\n",
       "      <th>Equity(535 [ARTW])</th>\n",
       "      <td>3.097778</td>\n",
       "      <td>3.40</td>\n",
       "      <td>0.013271</td>\n",
       "      <td>True</td>\n",
       "    </tr>\n",
       "    <tr>\n",
       "      <th>Equity(677 [AXAS])</th>\n",
       "      <td>2.265333</td>\n",
       "      <td>2.56</td>\n",
       "      <td>0.145527</td>\n",
       "      <td>True</td>\n",
       "    </tr>\n",
       "    <tr>\n",
       "      <th>Equity(1144 [BTX])</th>\n",
       "      <td>3.531167</td>\n",
       "      <td>3.62</td>\n",
       "      <td>0.065795</td>\n",
       "      <td>True</td>\n",
       "    </tr>\n",
       "    <tr>\n",
       "      <th>Equity(1323 [CAW])</th>\n",
       "      <td>2.541333</td>\n",
       "      <td>2.60</td>\n",
       "      <td>0.016002</td>\n",
       "      <td>True</td>\n",
       "    </tr>\n",
       "    <tr>\n",
       "      <th>Equity(1546 [CIF])</th>\n",
       "      <td>2.500370</td>\n",
       "      <td>2.57</td>\n",
       "      <td>0.015579</td>\n",
       "      <td>True</td>\n",
       "    </tr>\n",
       "  </tbody>\n",
       "</table>\n",
       "</div>"
      ],
      "text/plain": [
       "                                              30 Day Mean Close  Latest Close  \\\n",
       "2017-01-03 00:00:00+00:00 Equity(535 [ARTW])           3.097778          3.40   \n",
       "                          Equity(677 [AXAS])           2.265333          2.56   \n",
       "                          Equity(1144 [BTX])           3.531167          3.62   \n",
       "                          Equity(1323 [CAW])           2.541333          2.60   \n",
       "                          Equity(1546 [CIF])           2.500370          2.57   \n",
       "\n",
       "                                              Percent Difference  \\\n",
       "2017-01-03 00:00:00+00:00 Equity(535 [ARTW])            0.013271   \n",
       "                          Equity(677 [AXAS])            0.145527   \n",
       "                          Equity(1144 [BTX])            0.065795   \n",
       "                          Equity(1323 [CAW])            0.016002   \n",
       "                          Equity(1546 [CIF])            0.015579   \n",
       "\n",
       "                                             Positive Percent Diff  \n",
       "2017-01-03 00:00:00+00:00 Equity(535 [ARTW])                  True  \n",
       "                          Equity(677 [AXAS])                  True  \n",
       "                          Equity(1144 [BTX])                  True  \n",
       "                          Equity(1323 [CAW])                  True  \n",
       "                          Equity(1546 [CIF])                  True  "
      ]
     },
     "execution_count": 66,
     "metadata": {},
     "output_type": "execute_result"
    }
   ],
   "source": [
    "results = run_pipeline(make_pipeline(),'2017-01-01','2017-01-01')\n",
    "results.head()"
   ]
  },
  {
   "cell_type": "markdown",
   "metadata": {},
   "source": [
    "# Masken\n",
    "\n",
    "Manchmal möchten wir bestimmte Posten ignorieren, wenn wir Pipelineausdrücke berechnen. Es gibt zwei häufige Fälle, bei denen das Ignorieren von Posten nützlich ist:\n",
    "* Wir wollen einen Ausdruck berechnen, der viel Rechenleistung kostet und brauchen nur für bestimmte Posten die Ergebnisse.\n",
    "* Wir wollen einen Ausdruck berechnen, der Vergleiche zwischen Posten ausführt, aber wir wollen nur einen Teil der Posten untereinander vergleichen."
   ]
  },
  {
   "cell_type": "code",
   "execution_count": 83,
   "metadata": {
    "collapsed": true
   },
   "outputs": [],
   "source": [
    "def make_pipeline():\n",
    "    \n",
    "    # zuerst Filter für Masken erstellen\n",
    "    latest_close = USEquityPricing.close.latest\n",
    "    small_price = latest_close < 5\n",
    "    \n",
    "    # Maske übergeben\n",
    "    mean_close_10 = SimpleMovingAverage(inputs=[USEquityPricing.close],window_length=10,mask=small_price)\n",
    "    mean_close_30 = SimpleMovingAverage(inputs=[USEquityPricing.close],window_length=30,mask=small_price)\n",
    "    \n",
    "    \n",
    "    percent_difference = (mean_close_10-mean_close_30) / mean_close_30\n",
    "    \n",
    "    perc_diff_check = percent_difference > 0 \n",
    "    \n",
    "    \n",
    "    final_filter = perc_diff_check\n",
    "    \n",
    "    return Pipeline(columns={\n",
    "                            'Percent Difference':percent_difference,\n",
    "                            '30 Day Mean Close':mean_close_30,\n",
    "                            'Latest Close':latest_close,\n",
    "                            'Positive Percent Diff': perc_diff_check},\n",
    "                    screen=final_filter)"
   ]
  },
  {
   "cell_type": "code",
   "execution_count": 84,
   "metadata": {},
   "outputs": [
    {
     "data": {
      "text/html": [
       "<div>\n",
       "<table border=\"1\" class=\"dataframe\">\n",
       "  <thead>\n",
       "    <tr style=\"text-align: right;\">\n",
       "      <th></th>\n",
       "      <th></th>\n",
       "      <th>30 Day Mean Close</th>\n",
       "      <th>Latest Close</th>\n",
       "      <th>Percent Difference</th>\n",
       "      <th>Positive Percent Diff</th>\n",
       "    </tr>\n",
       "  </thead>\n",
       "  <tbody>\n",
       "    <tr>\n",
       "      <th rowspan=\"5\" valign=\"top\">2017-01-03 00:00:00+00:00</th>\n",
       "      <th>Equity(535 [ARTW])</th>\n",
       "      <td>3.097778</td>\n",
       "      <td>3.40</td>\n",
       "      <td>0.013271</td>\n",
       "      <td>True</td>\n",
       "    </tr>\n",
       "    <tr>\n",
       "      <th>Equity(677 [AXAS])</th>\n",
       "      <td>2.265333</td>\n",
       "      <td>2.56</td>\n",
       "      <td>0.145527</td>\n",
       "      <td>True</td>\n",
       "    </tr>\n",
       "    <tr>\n",
       "      <th>Equity(1144 [BTX])</th>\n",
       "      <td>3.531167</td>\n",
       "      <td>3.62</td>\n",
       "      <td>0.065795</td>\n",
       "      <td>True</td>\n",
       "    </tr>\n",
       "    <tr>\n",
       "      <th>Equity(1323 [CAW])</th>\n",
       "      <td>2.541333</td>\n",
       "      <td>2.60</td>\n",
       "      <td>0.016002</td>\n",
       "      <td>True</td>\n",
       "    </tr>\n",
       "    <tr>\n",
       "      <th>Equity(1546 [CIF])</th>\n",
       "      <td>2.500370</td>\n",
       "      <td>2.57</td>\n",
       "      <td>0.015579</td>\n",
       "      <td>True</td>\n",
       "    </tr>\n",
       "  </tbody>\n",
       "</table>\n",
       "</div>"
      ],
      "text/plain": [
       "                                              30 Day Mean Close  Latest Close  \\\n",
       "2017-01-03 00:00:00+00:00 Equity(535 [ARTW])           3.097778          3.40   \n",
       "                          Equity(677 [AXAS])           2.265333          2.56   \n",
       "                          Equity(1144 [BTX])           3.531167          3.62   \n",
       "                          Equity(1323 [CAW])           2.541333          2.60   \n",
       "                          Equity(1546 [CIF])           2.500370          2.57   \n",
       "\n",
       "                                              Percent Difference  \\\n",
       "2017-01-03 00:00:00+00:00 Equity(535 [ARTW])            0.013271   \n",
       "                          Equity(677 [AXAS])            0.145527   \n",
       "                          Equity(1144 [BTX])            0.065795   \n",
       "                          Equity(1323 [CAW])            0.016002   \n",
       "                          Equity(1546 [CIF])            0.015579   \n",
       "\n",
       "                                             Positive Percent Diff  \n",
       "2017-01-03 00:00:00+00:00 Equity(535 [ARTW])                  True  \n",
       "                          Equity(677 [AXAS])                  True  \n",
       "                          Equity(1144 [BTX])                  True  \n",
       "                          Equity(1323 [CAW])                  True  \n",
       "                          Equity(1546 [CIF])                  True  "
      ]
     },
     "execution_count": 84,
     "metadata": {},
     "output_type": "execute_result"
    }
   ],
   "source": [
    "results = run_pipeline(make_pipeline(),'2017-01-01','2017-01-01')\n",
    "results.head()"
   ]
  },
  {
   "cell_type": "code",
   "execution_count": 85,
   "metadata": {},
   "outputs": [
    {
     "data": {
      "text/plain": [
       "391"
      ]
     },
     "execution_count": 85,
     "metadata": {},
     "output_type": "execute_result"
    }
   ],
   "source": [
    "len(results)"
   ]
  },
  {
   "cell_type": "markdown",
   "metadata": {},
   "source": [
    "# Klassifikatoren\n",
    "\n",
    "Ein Klassifikator ist eine Funktion eines Postens und eines Zeitpunkts und gibt einen kategorischen Output (String, Integerlabel) zurück."
   ]
  },
  {
   "cell_type": "code",
   "execution_count": 74,
   "metadata": {
    "collapsed": true
   },
   "outputs": [],
   "source": [
    "from quantopian.pipeline.data import morningstar\n",
    "from quantopian.pipeline.classifiers.morningstar import Sector"
   ]
  },
  {
   "cell_type": "code",
   "execution_count": 75,
   "metadata": {
    "collapsed": true
   },
   "outputs": [],
   "source": [
    "morningstar_sector = Sector()"
   ]
  },
  {
   "cell_type": "code",
   "execution_count": 76,
   "metadata": {
    "collapsed": true
   },
   "outputs": [],
   "source": [
    "exchange = morningstar.share_class_reference.exchange_id.latest"
   ]
  },
  {
   "cell_type": "code",
   "execution_count": 77,
   "metadata": {},
   "outputs": [
    {
     "data": {
      "text/plain": [
       "Latest((share_class_reference.exchange_id::object,), window_length=1)"
      ]
     },
     "execution_count": 77,
     "metadata": {},
     "output_type": "execute_result"
    }
   ],
   "source": [
    "exchange"
   ]
  },
  {
   "cell_type": "markdown",
   "metadata": {},
   "source": [
    "### Methoden für Klassifikatoren\n",
    "\n",
    "* eq (equals)\n",
    "* isnull\n",
    "* startswith"
   ]
  },
  {
   "cell_type": "code",
   "execution_count": 79,
   "metadata": {},
   "outputs": [],
   "source": [
    "nyse_filter = exchange.eq('NYS')"
   ]
  },
  {
   "cell_type": "code",
   "execution_count": 80,
   "metadata": {
    "collapsed": true
   },
   "outputs": [],
   "source": [
    "def make_pipeline():\n",
    "    \n",
    "    # zuerst Filter für Masken erstellen\n",
    "    latest_close = USEquityPricing.close.latest\n",
    "    small_price = latest_close < 5\n",
    "    \n",
    "    # Klassifikator\n",
    "    nyse_filter = exchange.eq('NYS')\n",
    "    \n",
    "    # Maske übergeben\n",
    "    mean_close_10 = SimpleMovingAverage(inputs=[USEquityPricing.close],window_length=10,mask=small_price)\n",
    "    mean_close_30 = SimpleMovingAverage(inputs=[USEquityPricing.close],window_length=30,mask=small_price)\n",
    "    \n",
    "    \n",
    "    percent_difference = (mean_close_10-mean_close_30) / mean_close_30\n",
    "    \n",
    "    perc_diff_check = percent_difference > 0 \n",
    "    \n",
    "    \n",
    "    final_filter = perc_diff_check & nyse_filter\n",
    "    \n",
    "    return Pipeline(columns={\n",
    "                            'Percent Difference':percent_difference,\n",
    "                            '30 Day Mean Close':mean_close_30,\n",
    "                            'Latest Close':latest_close,\n",
    "                            'Positive Percent Diff': perc_diff_check},\n",
    "                    screen=final_filter)"
   ]
  },
  {
   "cell_type": "code",
   "execution_count": 81,
   "metadata": {},
   "outputs": [
    {
     "data": {
      "text/html": [
       "<div>\n",
       "<table border=\"1\" class=\"dataframe\">\n",
       "  <thead>\n",
       "    <tr style=\"text-align: right;\">\n",
       "      <th></th>\n",
       "      <th></th>\n",
       "      <th>30 Day Mean Close</th>\n",
       "      <th>Latest Close</th>\n",
       "      <th>Percent Difference</th>\n",
       "      <th>Positive Percent Diff</th>\n",
       "    </tr>\n",
       "  </thead>\n",
       "  <tbody>\n",
       "    <tr>\n",
       "      <th rowspan=\"5\" valign=\"top\">2017-01-03 00:00:00+00:00</th>\n",
       "      <th>Equity(2586 [EQS])</th>\n",
       "      <td>1.960533</td>\n",
       "      <td>2.020</td>\n",
       "      <td>0.022120</td>\n",
       "      <td>True</td>\n",
       "    </tr>\n",
       "    <tr>\n",
       "      <th>Equity(3265 [GLF])</th>\n",
       "      <td>1.576367</td>\n",
       "      <td>1.725</td>\n",
       "      <td>0.162420</td>\n",
       "      <td>True</td>\n",
       "    </tr>\n",
       "    <tr>\n",
       "      <th>Equity(3645 [HOV])</th>\n",
       "      <td>2.406667</td>\n",
       "      <td>2.735</td>\n",
       "      <td>0.176939</td>\n",
       "      <td>True</td>\n",
       "    </tr>\n",
       "    <tr>\n",
       "      <th>Equity(4577 [LUB])</th>\n",
       "      <td>4.292333</td>\n",
       "      <td>4.270</td>\n",
       "      <td>0.004116</td>\n",
       "      <td>True</td>\n",
       "    </tr>\n",
       "    <tr>\n",
       "      <th>Equity(4971 [RT])</th>\n",
       "      <td>3.244000</td>\n",
       "      <td>3.240</td>\n",
       "      <td>0.009094</td>\n",
       "      <td>True</td>\n",
       "    </tr>\n",
       "  </tbody>\n",
       "</table>\n",
       "</div>"
      ],
      "text/plain": [
       "                                              30 Day Mean Close  Latest Close  \\\n",
       "2017-01-03 00:00:00+00:00 Equity(2586 [EQS])           1.960533         2.020   \n",
       "                          Equity(3265 [GLF])           1.576367         1.725   \n",
       "                          Equity(3645 [HOV])           2.406667         2.735   \n",
       "                          Equity(4577 [LUB])           4.292333         4.270   \n",
       "                          Equity(4971 [RT])            3.244000         3.240   \n",
       "\n",
       "                                              Percent Difference  \\\n",
       "2017-01-03 00:00:00+00:00 Equity(2586 [EQS])            0.022120   \n",
       "                          Equity(3265 [GLF])            0.162420   \n",
       "                          Equity(3645 [HOV])            0.176939   \n",
       "                          Equity(4577 [LUB])            0.004116   \n",
       "                          Equity(4971 [RT])             0.009094   \n",
       "\n",
       "                                             Positive Percent Diff  \n",
       "2017-01-03 00:00:00+00:00 Equity(2586 [EQS])                  True  \n",
       "                          Equity(3265 [GLF])                  True  \n",
       "                          Equity(3645 [HOV])                  True  \n",
       "                          Equity(4577 [LUB])                  True  \n",
       "                          Equity(4971 [RT])                   True  "
      ]
     },
     "execution_count": 81,
     "metadata": {},
     "output_type": "execute_result"
    }
   ],
   "source": [
    "results = run_pipeline(make_pipeline(),'2017-01-01','2017-01-01')\n",
    "results.head()"
   ]
  },
  {
   "cell_type": "code",
   "execution_count": 82,
   "metadata": {},
   "outputs": [
    {
     "data": {
      "text/plain": [
       "67"
      ]
     },
     "execution_count": 82,
     "metadata": {},
     "output_type": "execute_result"
    }
   ],
   "source": [
    "len(results)"
   ]
  },
  {
   "cell_type": "markdown",
   "metadata": {},
   "source": [
    "# Pipelines in der Quantopian IDE"
   ]
  },
  {
   "cell_type": "code",
   "execution_count": null,
   "metadata": {
    "collapsed": true
   },
   "outputs": [],
   "source": [
    "from quantopian.pipeline import Pipeline\n",
    "from quantopian.algorithm import attach_pipeline, pipeline_output\n",
    "\n",
    "def initialize(context):\n",
    "    my_pipe = make_pipeline()\n",
    "    attach_pipeline(my_pipe, 'my_pipeline')\n",
    "\n",
    "def make_pipeline():\n",
    "    return Pipeline()\n",
    "\n",
    "def before_trading_start(context, data):\n",
    "    # Unser Pipeline-output (Datenframe) in context speichern.\n",
    "    context.output = pipeline_output('my_pipeline')"
   ]
  }
 ],
 "metadata": {
  "kernelspec": {
   "display_name": "Python 3 (ipykernel)",
   "language": "python",
   "name": "python3"
  },
  "language_info": {
   "codemirror_mode": {
    "name": "ipython",
    "version": 3
   },
   "file_extension": ".py",
   "mimetype": "text/x-python",
   "name": "python",
   "nbconvert_exporter": "python",
   "pygments_lexer": "ipython3",
   "version": "3.8.5"
  }
 },
 "nbformat": 4,
 "nbformat_minor": 2
}
