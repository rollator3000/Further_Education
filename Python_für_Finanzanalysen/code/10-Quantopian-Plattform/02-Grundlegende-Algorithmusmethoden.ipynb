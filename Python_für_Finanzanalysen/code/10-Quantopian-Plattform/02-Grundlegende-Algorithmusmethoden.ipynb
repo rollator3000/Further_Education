{
 "cells": [
  {
   "cell_type": "markdown",
   "metadata": {},
   "source": [
    "<a href=\"https://akademie.datamics.com/kursliste/\">![title](bg_datamics_top.png)</a>\n",
    "\n",
    "<center><em>© Datamics</em></center><br><center><em>Besuche uns für mehr Informationen auf <a href='https://akademie.datamics.com/kursliste/'>www.akademie.datamics.com</a></em></center>\n",
    "\n",
    "# Grundlegende Algorithmenmethoden\n",
    "\n",
    "Testen wir unsere zuvor optimierte Technologieportfolio-Strategie alorithmisch mit Quantopian!\n",
    "\n",
    "#### DIESER CODE FUNKTIONERT NUR AUF QUANTOPIAN. JEDE ZELLE HÄNGT MIT EINEM TEIL DES VIDEOKURSES ZUSAMMEN. SCHAUE DIR DAS VIDEO AN, UM DARÜBER MEHR ZU ERFAHREN!"
   ]
  },
  {
   "cell_type": "markdown",
   "metadata": {},
   "source": [
    "**initialize()**\n",
    "\n",
    "initialize() wird genau einmal aufgerufen, sobald unser Algorithmus beginnt und fordert \"context\" als Input.\n",
    "\n",
    "\"context\" ist ein erweitertes Python Wörterbuch (dictionary), das für die Erhaltung des Status während unseres Rückvergleichs (backtest) oder Livehandels verwendet wird. Es kann in verschiedenen Teilen unseres Algorithmus zitiert werden. \"context\" sollte anstelle von globalen Variablen im Algorithmus verwendet werden. Auf die Eigenschaften kann mit der Punkt-Notation zugegriffen werden (context.eine_eigenschaft)."
   ]
  },
  {
   "cell_type": "markdown",
   "metadata": {},
   "source": [
    "** handle_data() **\n",
    "\n",
    "handle_data() wird einmal am Ende jeder Minute aufgerufen und fordert \"context\" und \"data\" als Input. \"context\" ist eine Referenz auf dasselbe Wörterbuch wie in initialize() und \"data\" ist ein Objekt, das verschiedene API-Funktionen enthält."
   ]
  },
  {
   "cell_type": "markdown",
   "metadata": {},
   "source": [
    "## Unser optimiertes Portfolio von Technologieaktien\n",
    "\n",
    "Benutzen wir unser Portfolio von Technologieaktien, das wir zuvor berechnet haben. Denk dran, dass handle_data() unser Portfolio jede Minute anpasst! Das mag für manche Algorithmen unvernünftig sein, aber in diesem Beispiel werden wir einfach mit diesen grundlegenden Funktionen weitermachen."
   ]
  },
  {
   "cell_type": "code",
   "execution_count": 1,
   "metadata": {
    "collapsed": true
   },
   "outputs": [],
   "source": [
    "def initialize(context):\n",
    "    # Referenz auf Technologieaktien\n",
    "    context.aapl = sid(24)\n",
    "    context.csco = sid(1900)\n",
    "    context.amzn = sid(16841)\n",
    "\n",
    "def handle_data(context, data):\n",
    "    # Positioniere unsere Portfolio-Optimierung!\n",
    "    order_target_percent(context.aapl, .27)\n",
    "    order_target_percent(context.csco, .20)\n",
    "    order_target_percent(context.amzn, .53)"
   ]
  },
  {
   "cell_type": "markdown",
   "metadata": {},
   "source": [
    "### Aktuelle Daten erfassen"
   ]
  },
  {
   "cell_type": "markdown",
   "metadata": {},
   "source": [
    "### data.current()\n",
    "data.current() kann verwendet werden, um die aktuellsten Werte eines oder mehreren gegebenen Felder für einen oder mehrere Posten abzufragen. data.current() erfordert zwei Argumente: Den Posten oder die Liste der Posten und das Feld oder die Liste der Felder, die abgefragt werden. Mögliche Felder sind z.B. 'price', 'open', 'high', 'low', 'close', und 'volume'. Der Output hängt von den Inputtypen ab."
   ]
  },
  {
   "cell_type": "code",
   "execution_count": 3,
   "metadata": {},
   "outputs": [],
   "source": [
    "def initialize(context):\n",
    "    # Referenz auf Technologieaktien\n",
    "    context.techies = [sid(16841),sid(24),sid(1900)]\n",
    "\n",
    "def handle_data(context, data):\n",
    "    # Positioniere unsere Portfolio-Optimierung!\n",
    "    tech_close = data.current(context.techies,'close')\n",
    "    print(type(tech_close)) # Pandas-Reihen\n",
    "    print(tech_close) # Schlusspreise"
   ]
  },
  {
   "cell_type": "markdown",
   "metadata": {},
   "source": [
    "##### Achtung! Du kannst data.is_stale(sid#)) verwenden, um zu überprüfen, ob die Ergebnisse von data.current() am aktuellen \"bar\" (Zeitfenster) generiert wurden oder im Voraus eingetragen wurden."
   ]
  },
  {
   "cell_type": "markdown",
   "metadata": {},
   "source": [
    "### Handelsmöglichkeiten ausfindig machen"
   ]
  },
  {
   "cell_type": "markdown",
   "metadata": {},
   "source": [
    "### data.can_trade()\n",
    "\n",
    "data.can_trade() wird verwendet, um zu bestimmen, ob ein oder mehrere Posten zur Zeit auf einer unterstützen Börse gelistet ist und bestellt werden kann. Falls data.can_trade() True für einen bestimmten Posten eines Minuten\"bars\" ist, können wir eine Bestellung für diesen Posten in dieser Minute in Auftrag geben. Dies ist ein wichtiger Schutz in unserem Algorithmus, falls wir die Wertpapiere, die wir handeln wollen, manuell aussuchen. Es erfordert nur ein Argument: einen Posten oder eine Liste von Posten."
   ]
  },
  {
   "cell_type": "code",
   "execution_count": 5,
   "metadata": {
    "collapsed": true
   },
   "outputs": [],
   "source": [
    "def initialize(context):\n",
    "    # Referenz auf Amazon\n",
    "    context.amzn = sid(16841)\n",
    "    \n",
    "def handle_data(context, data):\n",
    "    # Dies verhindert, dass wir eine Exception auslösen!\n",
    "    if data.can_trade(sid(16841)):\n",
    "        order_target_percent(context.amzn, 1.0)"
   ]
  },
  {
   "cell_type": "markdown",
   "metadata": {},
   "source": [
    "# Historische Daten überprüfen\n",
    "\n",
    "Wenn Dein Algorithmus data.history auf Marktwerte anwendet, werden die zurückgegebenen Daten an Splits, Fusionen und Dividenden des aktuellen Simulationsdatums angepasst. In anderen Worten: Wenn Dein Algorithmus ein historisches Zeitfenster der Preise anfragt, und es einen Split in der Mitte dieses Fensters gibt, wird der erste Teil des Fensters an den Split angepasst. Diese Anpassung wird so vorgenommen, dass dein Algorithmus aussagekräftige Berechnungen aufgrund der Werte im Fenster ausführen kann.\n",
    "\n",
    "Dieser Code fragt die Preishistorie der letzten 20 Tage für einen statischen Satz von Wertpapieren ab. Genauer gesagt liefert dies den täglichen Schlusspreis der letzten 20 Tage, inklusive dem Preis des aktuellen Tages. Marktwertpreise sind Split- und Dividenden-angepasst für das aktuelle Datum der Simulation:"
   ]
  },
  {
   "cell_type": "code",
   "execution_count": 8,
   "metadata": {},
   "outputs": [],
   "source": [
    "\n",
    "def initialize(context):\n",
    "    # AAPL, MSFT und SPY\n",
    "    context.assets = [sid(24), sid(1900), sid(16841)]\n",
    "\n",
    "def before_trading_start(context,data):\n",
    "    price_history = data.history(context.assets,fields=\"price\", bar_count=5, frequency=\"1d\")\n",
    "    \n",
    "    print(price_history)\n"
   ]
  },
  {
   "cell_type": "markdown",
   "metadata": {},
   "source": [
    "Das Feld bar_count gibt die Anzahl der Tage oder Minuten an, die in dem von der history-Funktion zurückgegebenen pandas Datenframe betrachtet werden soll. Dieser Parameter akzeptiert nur Integerwerte.\n",
    "\n",
    "Das Feld frequency gibt an, wie oft die Stichproben genommen werden: täglich oder minütlich. Mögliche Inputs sind '1d' oder '1m'. Für andere Frequenzen musst Du pandas Funktion resample verwenden."
   ]
  },
  {
   "cell_type": "markdown",
   "metadata": {},
   "source": [
    "### Beispiele\n",
    "Unten sind Beispiele für Code, zusammen mit Erklärungen der zurückgegebenen Daten.\n",
    "\n",
    "### Tägliche Historie\n",
    "\n",
    "Verwende '1d' als Frequenz. Das zurückgegebene Datenframe liegt immer in täglichen Balken vor. Die Balken umfassen nie mehr als einen Handelstag. Für US Vermögenswerte erfasst ein täglicher Balken die Handelsaktivität während der Marktstunden (üblicherweise 9:30 - 16:00 Uhr ET). Für US Termingeschäfte umfasst ein täglicher Balken die Handelsaktivität von 18:00 bis 18:00 Uhr ET (24 Stunden). Zum Beispiel umfasst der tägliche Balken von Montag die Handelsaktivität von Sonntag 18:00 Uhr bis 18:00 am Montag. Der tägliche Balken von Dienstag geht von Montag 18:00 bis Dienstag 18:00 usw. Für jede Postengruppe wird der letzte Balken, falls er nur teilweise vorhanden ist, aus den Minuten des aktuellen Tages aufgebaut.\n",
    "\n",
    "### Beispiele (angenommen context.assets existiert):\n",
    "\n",
    "* data.history(context.assets, \"price\", 1, \"1d\") gibt den aktuellen Preis zurück\n",
    "* data.history(context.assets, \"volume\", 1, \"1d\") gibt das Volumen seit Öffnung des aktuellen Tages zurück, auch wenn unvollständig.\n",
    "* data.history(context.assets, \"price\", 2, \"1d\") gibt den gestrigen Schlusspreis und den aktuellen Preis zurück.\n",
    "* data.history(context.assets, \"price\", 6, \"1d\") gibt die Preise der letzten 5 Tage und den aktuellen Preis zurück.\n",
    "\n",
    "\n",
    "### Minütliche Historie\n",
    "\n",
    "Verwende '1m' als Frequenz.\n",
    "\n",
    "### Beipiele (angenommen context.assets existiert):\n",
    "\n",
    "* data.history(context.assets, \"price\", 1, \"1m\") gibt den aktuellen Preis zurück\n",
    "* data.history(context.assets, \"price\", 2, \"1m\") gibt den Schlusspreis der vergangenen Minute und den aktuellen Preis zurück.\n",
    "* data.history(context.assets, \"volume\", 60, \"1m\") gibt das Volumen der letzten 60 Minuten zurück."
   ]
  },
  {
   "cell_type": "markdown",
   "metadata": {},
   "source": [
    "# Zeitplanung (Scheduling)\n",
    "\n",
    "Verwende schedule_function, um anzuzeigen, wann Du andere Funktionen ausführen lassen willst. Die übergebenen Funktionen müssen \"context\" und \"data\" als Parameter besitzen."
   ]
  },
  {
   "cell_type": "code",
   "execution_count": 2,
   "metadata": {
    "collapsed": true
   },
   "outputs": [],
   "source": [
    "def initialize(context):\n",
    "    context.appl = sid(49051)\n",
    "\n",
    "    # Am Anfang der Handelswoche\n",
    "    # Bei Öffnung des Marktes sollen 10% des Portfolios Apple-Aktien sein\n",
    "    schedule_function(open_positions, date_rules.week_start(), time_rules.market_open())\n",
    "    \n",
    "    # Am Ende der Handelswoche\n",
    "    # 30 Minuten vor Marktschluss alle Apple-Aktien loswerden. \n",
    "    schedule_function(close_positions, date_rules.week_end(), time_rules.market_close(minutes=30))\n",
    "\n",
    "def open_positions(context, data):\n",
    "    order_target_percent(context.appl, 0.10)\n",
    "\n",
    "def close_positions(context, data):\n",
    "    order_target_percent(context.appl, 0)"
   ]
  },
  {
   "cell_type": "markdown",
   "metadata": {},
   "source": [
    "# Portfolio Informationen\n",
    "\n",
    "Du kannst Informationen zu Deinem Portfolio bekommen und aufzeichnen!"
   ]
  },
  {
   "cell_type": "code",
   "execution_count": 3,
   "metadata": {
    "collapsed": true
   },
   "outputs": [],
   "source": [
    "def initialize(context):\n",
    "    context.amzn = sid(16841)\n",
    "    context.ibm = sid(3766)\n",
    "\n",
    "    schedule_function(rebalance, date_rules.every_day(), time_rules.market_open())\n",
    "    schedule_function(record_vars, date_rules.every_day(), time_rules.market_close())\n",
    "\n",
    "def rebalance(context, data):\n",
    "    # Die Hälfte unseres Portfolios \"long\" auf Amazon\n",
    "    order_target_percent(context.amzn, 0.50)\n",
    "    # Die Hälfte \"short\" auf IBM\n",
    "    order_target_percent(context.ibm, -0.50)\n",
    "\n",
    "def record_vars(context, data):\n",
    "\n",
    "    # Die Auszählung graphisch darstellen\n",
    "    record(amzn_close=data.current(context.amzn,'close'))\n",
    "    record(ibm_close=data.current(context.ibm,'close'))"
   ]
  },
  {
   "cell_type": "markdown",
   "metadata": {},
   "source": [
    "# Verzögerung (Slippage) und Kommission (Commission)\n",
    "\n",
    "### Verzögerung (Slippage)\n",
    "Verzögerung ist, wenn eine Simulation den Einfluss von Bestellungen auf die Erfüllrate (fillrate) und den Ausführungspreis (execution price), den sie erhalten, schätzt. Wenn eine Bestellung für einen Handel in Auftrag gegeben wird, wird der Markt beeinflusst. Kaufaufträge treiben Preise hoch, Verkaufaufträge runter; dies wird grundsätzlich als Preiseinfluss (price_impact) eines Handels bezeichnet. Zusätzlich werden Handelsbestellungen nicht unbedingt sofort erfüllt. Erfüllraten hängen von der Größe der Bestellung und dem aktuellen Handelsvolumen des bestellten Wertpapiert ab. Das Volumenlimit (volume_limit) bestimmt den Anteil des Handelsvolumens eines Wertpapier, der von Deinem Algorithmus benutzt werden kann.\n",
    "\n",
    "In Rückvergleichen und nicht-Makler-Papierhandel (Quantopian Papierhandel) kann ein Verzögerungsmodell in initialize() mithilfe von set_slippage() verwendet werden. Es gibt verschiedene eingebaute Verzögerungsmodelle, die benutzt werden können, sowie die Option, ein benutzerdefiniertes Modell einzurichten. Im Defaultmodus (ohne ein gewähltes Verzögerungsmodell) wird das folgende Volume Share Verzögerungsmodell verwendet:"
   ]
  },
  {
   "cell_type": "code",
   "execution_count": null,
   "metadata": {},
   "outputs": [],
   "source": [
    "set_slippage(slippage.VolumeShareSlippage(volume_limit=0.025, price_impact=0.1))"
   ]
  },
  {
   "cell_type": "markdown",
   "metadata": {},
   "source": [
    "Mit dem Defaultmodell: wenn eine Bestellung für 60 Aktien für einen bestimmten Bestand in Auftrag gegeben wird, werden 1000 Aktien dieses Bestands in jeder der nächsten paar Minuten gehandelt und das Volumenlimit ist 0.025, denn unser Handelsauftrag wird in drei Aufträge aufgeteilt (25, 25 und 10 Aktien), die über die nächsten drei Minuten verteilt ausgeführt werden.\n",
    "\n",
    "Am Ende jedes Tages werden alle offenen Aufträge annulliert, also ist das Handeln von flüssigen Beständen generell eine gute Idee. Zusätzlich werden Aufträge, die genau zu Marktschluss getätigt werden, keine Zeit haben, um ausgeführt zu werden und annuliert werden."
   ]
  },
  {
   "cell_type": "markdown",
   "metadata": {},
   "source": [
    "### Kommission (Commission)\n",
    "\n",
    "Um die Kosten eines Handels zu spezifzieren können wir ein Kommissionsmodell in initialize() mithilfe von set_commission() angeben. Im Defaultmodus (wenn kein Kommissionsmodell gewählt wird), wird das folgende Kommissionsmodell verwendet:"
   ]
  },
  {
   "cell_type": "code",
   "execution_count": null,
   "metadata": {
    "collapsed": true
   },
   "outputs": [],
   "source": [
    "set_commission(commission.PerShare(cost=0.0075, min_trade_cost=1))"
   ]
  },
  {
   "cell_type": "markdown",
   "metadata": {},
   "source": [
    "Das Default-Kommissionsmodell kostet 0.0075 Dollar pro Aktie, mit minimalen Handelskosten von 1 Dollar.\n",
    "\n",
    "Verzögerungs- und Kommisionsmodelle können einen Einfluss auf die Leistung in einem Rückvergleich haben. Die Defaultmodelle von Quantopian sind ziemlich realistisch und es wird dringend empfohlen, diese zu verwenden."
   ]
  },
  {
   "cell_type": "markdown",
   "metadata": {},
   "source": [
    "# Super gemacht!\n",
    "\n",
    "Das waren alle Grundlagen des Quantopian-Tutorials! Mit diesen wichtigsten Funktionen weißt du eigentlich schon genug, um mit dem Trading zu beginnen!"
   ]
  }
 ],
 "metadata": {
  "anaconda-cloud": {},
  "kernelspec": {
   "display_name": "Python 3 (ipykernel)",
   "language": "python",
   "name": "python3"
  },
  "language_info": {
   "codemirror_mode": {
    "name": "ipython",
    "version": 3
   },
   "file_extension": ".py",
   "mimetype": "text/x-python",
   "name": "python",
   "nbconvert_exporter": "python",
   "pygments_lexer": "ipython3",
   "version": "3.8.5"
  }
 },
 "nbformat": 4,
 "nbformat_minor": 1
}
